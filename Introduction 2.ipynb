{
 "cells": [
  {
   "cell_type": "markdown",
   "metadata": {},
   "source": [
    "# Introduction to Python 2"
   ]
  },
  {
   "cell_type": "markdown",
   "metadata": {},
   "source": [
    "## 1. Aanmaken lists\n",
    "### 1.1 Lists met 1 datatype\n",
    "\n",
    "\n",
    "- Wijs de winkeloppervlaktes (floor space) van onderstaande variabelen toe aan de list fl_sp.\n",
    "- Print fl_sp."
   ]
  },
  {
   "cell_type": "code",
   "execution_count": 1,
   "metadata": {},
   "outputs": [
    {
     "name": "stdout",
     "output_type": "stream",
     "text": [
      "[18526, 18569, 12288, 17092, 11307]\n"
     ]
    }
   ],
   "source": [
    "swinton = 18526\n",
    "stamford = 18569\n",
    "skipton = 12288\n",
    "stratton = 17092\n",
    "shepperton = 11307\n",
    "\n",
    "fl_sp = [swinton, stamford, skipton, stratton, shepperton]\n",
    "print(fl_sp)"
   ]
  },
  {
   "cell_type": "markdown",
   "metadata": {},
   "source": [
    "### 1.2 Lists met verschillende types\n",
    "\n",
    "- Pas fl_sp aan door de plaatsnamen toe te voegen aan de list. Zet iedere plaatsnaam op de juiste wijze voor de betreffende winkeloppervlakte. \n",
    "- print fl_sp."
   ]
  },
  {
   "cell_type": "code",
   "execution_count": 2,
   "metadata": {},
   "outputs": [
    {
     "name": "stdout",
     "output_type": "stream",
     "text": [
      "['Swinton', 18526, 'stamford', 18569, 'skipton', 12288, 'stratton', 17092, 'shepperton', 11307]\n"
     ]
    }
   ],
   "source": [
    "fl_sp.insert(0, \"Swinton\")\n",
    "fl_sp.insert(2, \"stamford\")\n",
    "fl_sp.insert(4, \"skipton\")\n",
    "fl_sp.insert(6, \"stratton\")\n",
    "fl_sp.insert(8, \"shepperton\")\n",
    "\n",
    "print(fl_sp)"
   ]
  },
  {
   "cell_type": "markdown",
   "metadata": {},
   "source": [
    "### 1.3 Lists binnen lists\n",
    "- Pas fl_sp zodanig aan dat het bestaat uit verschillende lists. Iedere sub-list is een combinatie van de plaatsnaam en de betreffende vloeroppervlakte.\n",
    "- Print fl_sp."
   ]
  },
  {
   "cell_type": "code",
   "execution_count": 3,
   "metadata": {
    "scrolled": true
   },
   "outputs": [
    {
     "name": "stdout",
     "output_type": "stream",
     "text": [
      "[['Swinton', 18526], ['stamford', 18569], ['skipton', 12288], ['stratton', 17092], ['shepperton', 11307]]\n"
     ]
    }
   ],
   "source": [
    "fl_sp = [['Swinton', 18526], ['stamford', 18569], ['skipton', 12288], ['stratton', 17092], ['shepperton', 11307]]\n",
    "print(fl_sp)"
   ]
  },
  {
   "cell_type": "markdown",
   "metadata": {},
   "source": [
    "- Welke manier van het opzetten van de list is het beste? Waarom?"
   ]
  },
  {
   "cell_type": "markdown",
   "metadata": {},
   "source": [
    "Antwoord: \n",
    "De sub-list methode is het beste omdat dan de bij elkaar horende elementen zichtbaar worden gegroepeerd door de haakjes. Anders zou alleen de volgorde kunnen aanduiden welke elementen bij elkaar horen. Dat is onduidelijk en foutgevoelig."
   ]
  },
  {
   "cell_type": "markdown",
   "metadata": {},
   "source": [
    "## 2 Selecteren van elementen\n",
    "\n",
    "### 2.1 selecteren van 1 element\n",
    "\n",
    "- Voer de code in onderstaande cel uit om de list fl_sp op te zetten."
   ]
  },
  {
   "cell_type": "code",
   "execution_count": 4,
   "metadata": {},
   "outputs": [
    {
     "name": "stdout",
     "output_type": "stream",
     "text": [
      "['swinton', 18526, 'stamford', 18569, 'skipton', 12288, 'stratton', 17092, 'shepperton', 11307]\n"
     ]
    }
   ],
   "source": [
    "fl_sp = ['swinton', 18526, 'stamford', 18569, 'skipton', 12288, 'stratton', 17092, 'shepperton', 11307]\n",
    "print(fl_sp)"
   ]
  },
  {
   "cell_type": "markdown",
   "metadata": {},
   "source": [
    "- Print de volgende elementen van fl_sp (hint: houd rekening met \"zero-indexing\"):\n",
    "    - Het derde element\n",
    "    - Het eerste element\n",
    "    - Het laatste element\n",
    "    - Het op 1 na laatste element"
   ]
  },
  {
   "cell_type": "code",
   "execution_count": 5,
   "metadata": {},
   "outputs": [
    {
     "name": "stdout",
     "output_type": "stream",
     "text": [
      "stamford\n",
      "swinton\n",
      "11307\n",
      "shepperton\n"
     ]
    }
   ],
   "source": [
    "print(fl_sp[2])\n",
    "print(fl_sp[0])\n",
    "print(fl_sp[-1])\n",
    "print(fl_sp[-2])"
   ]
  },
  {
   "cell_type": "markdown",
   "metadata": {},
   "source": [
    "- Bereken de gemiddelde winkeloppervlakte en wijs het resultaat toe aan de variable avg.\n",
    "- Print de gemiddelde winkeloppervlakte."
   ]
  },
  {
   "cell_type": "code",
   "execution_count": 6,
   "metadata": {},
   "outputs": [
    {
     "name": "stdout",
     "output_type": "stream",
     "text": [
      "15556.4\n"
     ]
    }
   ],
   "source": [
    "avg = (fl_sp[1] + fl_sp[3] + fl_sp[5] + fl_sp[7] + fl_sp[9]) / (len(fl_sp) / 2)\n",
    "print(avg)"
   ]
  },
  {
   "cell_type": "markdown",
   "metadata": {},
   "source": [
    "### 2.2 Selecteren van meerdere elementen (slicing)\n",
    "\n",
    "- Print de laatste 4 elementen.\n",
    "- Print het derde element tot en met het zesde element.\n",
    "- Print de eerste twee elementen."
   ]
  },
  {
   "cell_type": "code",
   "execution_count": 7,
   "metadata": {},
   "outputs": [
    {
     "name": "stdout",
     "output_type": "stream",
     "text": [
      "['stratton', 17092, 'shepperton', 11307]\n",
      "['stamford', 18569, 'skipton', 12288]\n",
      "['swinton', 18526]\n"
     ]
    }
   ],
   "source": [
    "print(fl_sp[-4:])\n",
    "print(fl_sp[2:6])\n",
    "print(fl_sp[:2])"
   ]
  },
  {
   "cell_type": "markdown",
   "metadata": {},
   "source": [
    "### 2.3 Selecteren van lists binnen lists\n",
    "- Voer de code in onderstaande cel uit om de list fl_sp op te zetten."
   ]
  },
  {
   "cell_type": "code",
   "execution_count": 8,
   "metadata": {},
   "outputs": [
    {
     "name": "stdout",
     "output_type": "stream",
     "text": [
      "[['swinton', 18526], ['stamford', 18569], ['skipton', 12288], ['stratton', 17092], ['shepperton', 11307]]\n"
     ]
    }
   ],
   "source": [
    "fl_sp = [['swinton', swinton] , ['stamford', stamford] , ['skipton', skipton], ['stratton', stratton], ['shepperton', shepperton]]\n",
    "print(fl_sp)"
   ]
  },
  {
   "cell_type": "markdown",
   "metadata": {},
   "source": [
    "- Print de winkeloppervlakte van Stratton op twee manieren: (1) vanaf het begin van de list en (2) vanaf het einde van de list."
   ]
  },
  {
   "cell_type": "code",
   "execution_count": 9,
   "metadata": {},
   "outputs": [
    {
     "name": "stdout",
     "output_type": "stream",
     "text": [
      "17092\n",
      "17092\n"
     ]
    }
   ],
   "source": [
    "print(fl_sp[3][1])\n",
    "print(fl_sp[-2][1])"
   ]
  },
  {
   "cell_type": "markdown",
   "metadata": {},
   "source": [
    "## 3 Manipuleren van lists\n",
    "### 3.1 Vervangen, toevoegen en verwijderen van elementen\n",
    "\n",
    "- Voer de code in onderstaande cel uit om de list fl_sp op te zetten."
   ]
  },
  {
   "cell_type": "code",
   "execution_count": 10,
   "metadata": {},
   "outputs": [
    {
     "name": "stdout",
     "output_type": "stream",
     "text": [
      "['swinton', 18526, 'stamford', 18569, 'skipton', 12288, 'stratton', 17092, 'shepperton', 11307]\n"
     ]
    }
   ],
   "source": [
    "fl_sp = ['swinton', 18526, 'stamford', 18569, 'skipton', 12288, 'stratton', 17092, 'shepperton', 11307]\n",
    "print(fl_sp)"
   ]
  },
  {
   "cell_type": "markdown",
   "metadata": {},
   "source": [
    "- Vervang stratton door london.\n",
    "- Vervang de oppervlakte van london door 25000.\n",
    "- Print fl_sp."
   ]
  },
  {
   "cell_type": "code",
   "execution_count": 11,
   "metadata": {},
   "outputs": [
    {
     "name": "stdout",
     "output_type": "stream",
     "text": [
      "['swinton', 18526, 'stamford', 18569, 'skipton', 12288, 'london', 25000, 'shepperton', 11307]\n"
     ]
    }
   ],
   "source": [
    "fl_sp[6] = \"london\"\n",
    "fl_sp[7] = 25000\n",
    "print(fl_sp)"
   ]
  },
  {
   "cell_type": "markdown",
   "metadata": {},
   "source": [
    "- Maak een nieuwe list new_fl_sp waarin je jouw woonplaats met een realistische vloeroppervlakte toevoegt aan fl_sp.\n",
    "- Print the new list."
   ]
  },
  {
   "cell_type": "code",
   "execution_count": 12,
   "metadata": {},
   "outputs": [
    {
     "name": "stdout",
     "output_type": "stream",
     "text": [
      "['swinton', 18526, 'stamford', 18569, 'skipton', 12288, 'london', 25000, 'shepperton', 11307, 'Den Haag', 6000]\n"
     ]
    }
   ],
   "source": [
    "new_fl_sp = fl_sp + [\"Den Haag\", 6000]\n",
    "print(new_fl_sp)"
   ]
  },
  {
   "cell_type": "markdown",
   "metadata": {},
   "source": [
    "- Verwijder shepperton en de bijbehorende oppervlakte uit new_fl_sp."
   ]
  },
  {
   "cell_type": "code",
   "execution_count": 13,
   "metadata": {},
   "outputs": [
    {
     "name": "stdout",
     "output_type": "stream",
     "text": [
      "['swinton', 18526, 'stamford', 18569, 'skipton', 12288, 'london', 25000, 'Den Haag', 6000]\n"
     ]
    }
   ],
   "source": [
    "del new_fl_sp[-4:-2]\n",
    "print(new_fl_sp)"
   ]
  },
  {
   "cell_type": "markdown",
   "metadata": {},
   "source": [
    "Onderstaande cel bevat code waarin new_list wordt aangemaakt die gelijk is aan new_fl_sp. Zodra het laatste element van new_list wordt verwijderd dan wordt het laatse element van new_fl_sp ook verwijderd. \n",
    "\n",
    "- Pas de code zodanig aan dat als een van de lists wordt aangepast de andere list NIET verandert."
   ]
  },
  {
   "cell_type": "code",
   "execution_count": 14,
   "metadata": {},
   "outputs": [
    {
     "name": "stdout",
     "output_type": "stream",
     "text": [
      "['swinton', 18526, 'stamford', 18569, 'skipton', 12288, 'london', 25000, 'Den Haag', 6000]\n"
     ]
    }
   ],
   "source": [
    "#original\n",
    "new_list1 = new_fl_sp.copy()\n",
    "del(new_list1[-1])\n",
    "print(new_fl_sp)"
   ]
  },
  {
   "cell_type": "markdown",
   "metadata": {},
   "source": [
    "## 4 Integratie opdracht\n",
    "Onlangs zijn de volgende winkels met de betreffende oppervlaktes geopend:\n",
    "\n",
    "- sandbach: 15738\n",
    "- stone: 17242\n",
    "- sedbergh: 11198\n",
    "\n",
    "Opdracht:\n",
    "- Voeg deze 3 winkels toe aan fl_sp.\n",
    "- Print de gemiddelde oppervlakte van deze 3 nieuwe winkels.\n",
    "- Maak een nieuwe list die hetzelde is als fl_sp. Als de nieuwe list wijzigt dan mag de andere list NIET veranderen.\n",
    "- Verander in de NIEUWE list de oppervlakte van stamford in 21000. \n",
    "- Print de nieuwe list.\n",
    "- Print de volgende zin waarbij je gebruik maakt van list elements: \"stamford has a floor space of 18569 sqm\"."
   ]
  },
  {
   "cell_type": "code",
   "execution_count": 15,
   "metadata": {},
   "outputs": [
    {
     "name": "stdout",
     "output_type": "stream",
     "text": [
      "['swinton', 18526, 'stamford', 18569, 'skipton', 12288, 'london', 25000, 'shepperton', 11307, 'sandbach', 15738, 'stone', 17242, 'sedbergh', 11198]\n",
      "14726.0 \n",
      "\n",
      "['swinton', 18526, 'stamford', 21000, 'skipton', 12288, 'london', 25000, 'shepperton', 11307, 'sandbach', 15738, 'stone', 17242, 'sedbergh', 11198] \n",
      "\n",
      "stamford has a floor space of 18569 sqm\n"
     ]
    }
   ],
   "source": [
    "# adding 3 stores:\n",
    "fl_sp.extend((\"sandbach\", 15738, \"stone\", 17242, \"sedbergh\", 11198))\n",
    "print(fl_sp)\n",
    "# calculate average:\n",
    "print((fl_sp[-5] + fl_sp[-3] + fl_sp[-1]) / 3, \"\\n\")\n",
    "\n",
    "# create new list:\n",
    "fl_sp_copy = fl_sp.copy()\n",
    "\n",
    "# Change floor space:\n",
    "fl_sp_copy[3] = 21000\n",
    "print(fl_sp_copy, \"\\n\")\n",
    "# Print sentence\n",
    "print(fl_sp[2] + \" has a floor space of \" + str(fl_sp[3]) + \" sqm\")\n"
   ]
  },
  {
   "cell_type": "code",
   "execution_count": null,
   "metadata": {},
   "outputs": [],
   "source": []
  },
  {
   "cell_type": "code",
   "execution_count": null,
   "metadata": {},
   "outputs": [],
   "source": []
  }
 ],
 "metadata": {
  "kernelspec": {
   "display_name": "Python 3 (ipykernel)",
   "language": "python",
   "name": "python3"
  },
  "language_info": {
   "codemirror_mode": {
    "name": "ipython",
    "version": 3
   },
   "file_extension": ".py",
   "mimetype": "text/x-python",
   "name": "python",
   "nbconvert_exporter": "python",
   "pygments_lexer": "ipython3",
   "version": "3.9.13"
  }
 },
 "nbformat": 4,
 "nbformat_minor": 2
}
