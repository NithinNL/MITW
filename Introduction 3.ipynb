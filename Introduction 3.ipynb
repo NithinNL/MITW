{
 "cells": [
  {
   "cell_type": "markdown",
   "metadata": {},
   "source": [
    "# Functies en methods"
   ]
  },
  {
   "cell_type": "markdown",
   "metadata": {},
   "source": [
    "## Inleiding\n",
    "\n",
    "In onderstaande opdrachten ga je functies en methods toepassen die je waarschijnlijk nog niet kent. Het maakt onderdeel uit van de opdracht om uit te vinden welke functie of method geschikt is. Zoek hiervoor op het internet. Uitvinden hoe je een probleem kunt oplossen is een belangrijke programmeervaardigheid.\n",
    "\n",
    "Het is overigens ook mogelijk om zelf functies en methods te maken. Dit is iets dat later aan de orde komt."
   ]
  },
  {
   "cell_type": "markdown",
   "metadata": {},
   "source": [
    "## 1. Functies\n",
    "### 1.1 inleiding\n",
    "\n",
    "- Gebruik een functie waarmee je fl_sp omzet naar fl_sp2. Als de ene list wijzigt dan mag de andere NIET veranderen. \n",
    "- Print de lengte (het aantal elementen) van fl_sp2\n",
    "- Wijs 'stamford' uit fl_sp2 toe aan de variabele stamford.\n",
    "- Print het type van stamford.\n",
    "- Wijs 18569 uit fl_sp2 toe aan de variabele fl_sp_stamford.\n",
    "- Verander het type van fl_sp_stamford in float.\n",
    "- Print het type van fl_sp_stamford\n",
    "- Benoem welke functies je hebt toegepast in bovenstaande opdrachten."
   ]
  },
  {
   "cell_type": "code",
   "execution_count": 1,
   "metadata": {
    "scrolled": true
   },
   "outputs": [
    {
     "name": "stdout",
     "output_type": "stream",
     "text": [
      "10\n",
      "<class 'str'>\n",
      "<class 'float'>\n",
      "Ik heb de volgende functies toegepast: list(), len(), float()\n"
     ]
    }
   ],
   "source": [
    "fl_sp = ['swinton', 18526, 'stamford', 18569, 'skipton', 12288, 'stratton', 17092, 'shepperton', 11307]\n",
    "#Start coding here:\n",
    "fl_sp2 = list(fl_sp)\n",
    "stamford = fl_sp2[2]\n",
    "print(len(fl_sp2))\n",
    "print(type(stamford))\n",
    "fl_sp_stamford = fl_sp2[3]\n",
    "fl_sp_stamford = float(fl_sp_stamford)\n",
    "print(type(fl_sp_stamford))\n",
    "\n",
    "print(\"Ik heb de volgende functies toegepast: list(), len(), float()\")\n",
    "\n"
   ]
  },
  {
   "cell_type": "markdown",
   "metadata": {},
   "source": [
    "### 1.2 Help functie\n",
    "\n",
    "- Toon de help-informatie van de functie sum.\n",
    "- Pas de sum functie toe op de list sqm en gebruik een 'function argument' (functie parameter) om 1000 bij de uitkomst op te tellen.\n",
    "- Print het resultaat.\n",
    "- Maak een nieuwe list sqm2 waarin de waardes uit sqm in AFLOPENDE volgorde worden gezet. Gebruik de help functie indien nodig. \n",
    "- Print sqm2."
   ]
  },
  {
   "cell_type": "code",
   "execution_count": 2,
   "metadata": {},
   "outputs": [
    {
     "name": "stdout",
     "output_type": "stream",
     "text": [
      "Help on built-in function sum in module builtins:\n",
      "\n",
      "sum(iterable, /, start=0)\n",
      "    Return the sum of a 'start' value (default: 0) plus an iterable of numbers\n",
      "    \n",
      "    When the iterable is empty, return the start value.\n",
      "    This function is intended specifically for use with numeric values and may\n",
      "    reject non-numeric types.\n",
      "\n",
      "78782\n",
      "[18526, 18569, 12288, 17092, 11307]\n",
      "[18569, 18526, 17092, 12288, 11307]\n"
     ]
    }
   ],
   "source": [
    "sqm = [18526, 18569, 12288, 17092, 11307]\n",
    "# start coding here:\n",
    "help(sum)\n",
    "print(sum(sqm, start=1000))\n",
    "sqm2 = sorted(sqm, reverse=True)\n",
    "print(sqm)\n",
    "print(sqm2)"
   ]
  },
  {
   "cell_type": "markdown",
   "metadata": {},
   "source": [
    "## 2 Methods\n",
    "\n",
    "### 2.1 String methods\n",
    "\n",
    "- Print 'Barack Obama' (gebruik een method om hoofdletters te maken van de b en de o in first en last)\n",
    "- Print het aantal maal dat de letter a voorkomt in de woorden 'Barack Obama'. Pas hiervoor een method toe."
   ]
  },
  {
   "cell_type": "code",
   "execution_count": 3,
   "metadata": {},
   "outputs": [
    {
     "name": "stdout",
     "output_type": "stream",
     "text": [
      "Barack Obama\n",
      "4\n"
     ]
    }
   ],
   "source": [
    "first = 'barack'\n",
    "last = 'obama'\n",
    "\n",
    "#start coding here:\n",
    "#help(str)\n",
    "print(first.capitalize() + \" \" + last.capitalize())\n",
    "print((first+last).count(\"a\"))"
   ]
  },
  {
   "cell_type": "markdown",
   "metadata": {},
   "source": [
    "- Leg het verschil uit tussen een functie en een method.\n",
    "- Wat zijn de beperkingen van methods?"
   ]
  },
  {
   "cell_type": "code",
   "execution_count": 4,
   "metadata": {},
   "outputs": [
    {
     "name": "stdout",
     "output_type": "stream",
     "text": [
      "Een functie is een stuk code dat op zichzelf gebruikt kan worden en heeft argumenten nodig.\n",
      "Een method is verbonden aan een object of class en argumenten en heeft niet altijd argumenten nodig.\n",
      "Methods zijn beperkt tot het object of class waarmee ze worden opegeroepen.\n"
     ]
    }
   ],
   "source": [
    "print(\"Een functie is een stuk code dat op zichzelf gebruikt kan worden en heeft argumenten nodig.\\n\\\n",
    "Een method is verbonden aan een object of class en argumenten en heeft niet altijd argumenten nodig.\")\n",
    "print(\"Methods zijn beperkt tot het object of class waarmee ze worden opegeroepen.\")"
   ]
  },
  {
   "cell_type": "markdown",
   "metadata": {},
   "source": [
    "### 2.2 List methods \n",
    "\n",
    "De town list bevat een lijst met plaatsnamen. In fl_sp staan in dezelfde volgorde de oppervlaktes van deze winkels.\n",
    "- Gebruik een method om de index van skipton te bepalen. Wijs het resultaat toe aan de variable skipton_index. Print skipton_index.\n",
    "- Gebruik skipton_index om de oppervlakte van de winkel in skipton te bepalen in fl_sp."
   ]
  },
  {
   "cell_type": "code",
   "execution_count": 5,
   "metadata": {},
   "outputs": [
    {
     "name": "stdout",
     "output_type": "stream",
     "text": [
      "2\n",
      "12288\n"
     ]
    }
   ],
   "source": [
    "town = ['swinton', 'stamford', 'skipton', 'stratton', 'shepperton' ]\n",
    "fl_sp = [18526, 18569, 12288, 17092, 11307]\n",
    "\n",
    "#Start coding here:\n",
    "skipton_index = town.index(\"skipton\")\n",
    "print(skipton_index)\n",
    "print(fl_sp[skipton_index])"
   ]
  },
  {
   "cell_type": "markdown",
   "metadata": {},
   "source": [
    "- Gebruik een method om het getal 21000 toe te voegen aan fl_sp. \n",
    "- Kopieer fl_sp naar fl_sp_rev\n",
    "- Keer de volgorde van de getallen in fl_sp_rev om met een method.\n",
    "- Voer de code tenminste twee maal uit. Wat gebeurt er?\n",
    "- De list zou slechts 1 maal het getal 21000 moeten bevatten. Gebruik een method om de overbodige elementen te verwijderen."
   ]
  },
  {
   "cell_type": "code",
   "execution_count": 6,
   "metadata": {},
   "outputs": [
    {
     "name": "stdout",
     "output_type": "stream",
     "text": [
      "[21000, 11307, 17092, 12288, 18569, 18526]\n",
      "Bij het twee keer of vaker uitvoeren van de code voegt de append-methode steeds 21000 toe aan de list.\n"
     ]
    }
   ],
   "source": [
    "fl_sp.append(21000)\n",
    "\n",
    "fl_sp_rev = fl_sp.copy()\n",
    "fl_sp_rev.reverse()\n",
    "# print(fl_sp)\n",
    "print(fl_sp_rev)\n",
    "print(\"Bij het twee keer of vaker uitvoeren van de code voegt de append-methode steeds 21000 toe aan de list.\")\n",
    "fl_sp.remove(21000)"
   ]
  },
  {
   "cell_type": "markdown",
   "metadata": {},
   "source": [
    "- Herschrijf de code uit bovenstaande cel op zodanige wijze dat je de cel oneindig kunt blijven uitvoeren zonder dat je iedere keer een getal moet verwijderen."
   ]
  },
  {
   "cell_type": "code",
   "execution_count": 7,
   "metadata": {},
   "outputs": [
    {
     "name": "stdout",
     "output_type": "stream",
     "text": [
      "[18526, 18569, 12288, 17092, 11307, 21000]\n"
     ]
    }
   ],
   "source": [
    "#Alternative and better way to code since it can run infinitely:\n",
    "fl_sp_new = fl_sp + [21000]\n",
    "print(fl_sp_new)\n"
   ]
  },
  {
   "cell_type": "markdown",
   "metadata": {},
   "source": [
    "### 3 Integratie opdracht\n",
    "\n",
    "De onderstaande lists staan in dezelde volgorde van winkel. \n",
    "- De eigenaar van de winkelketen wil weten welke winkel de kleinste oppervlakte heeft. Gebruik een tenminste 1 functie en 1 method om de plaatsnaam van de winkel met de kleinste oppervlakte te bepalen.\n",
    "- Print deze plaatsnaam."
   ]
  },
  {
   "cell_type": "code",
   "execution_count": 8,
   "metadata": {},
   "outputs": [
    {
     "name": "stdout",
     "output_type": "stream",
     "text": [
      "Method en functie, .index en min(): shepperton\n"
     ]
    }
   ],
   "source": [
    "town = ['swinton', 'stamford', 'skipton', 'stratton', 'shepperton' ]\n",
    "fl_sp = [18526, 18569, 12288, 17092, 11307]\n",
    "#Start coding here:\n",
    "print(\"Method en functie, .index en min():\", town[fl_sp.index(min(fl_sp))])\n",
    "\n",
    "\n"
   ]
  },
  {
   "cell_type": "code",
   "execution_count": null,
   "metadata": {},
   "outputs": [],
   "source": []
  }
 ],
 "metadata": {
  "kernelspec": {
   "display_name": "Python 3 (ipykernel)",
   "language": "python",
   "name": "python3"
  },
  "language_info": {
   "codemirror_mode": {
    "name": "ipython",
    "version": 3
   },
   "file_extension": ".py",
   "mimetype": "text/x-python",
   "name": "python",
   "nbconvert_exporter": "python",
   "pygments_lexer": "ipython3",
   "version": "3.9.13"
  }
 },
 "nbformat": 4,
 "nbformat_minor": 2
}
