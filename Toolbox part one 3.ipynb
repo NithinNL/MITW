{
 "cells": [
  {
   "cell_type": "markdown",
   "metadata": {},
   "source": [
    "# Python toolbox part one 3\n",
    "- Lambda functies\n",
    "- foutafhandeling"
   ]
  },
  {
   "cell_type": "markdown",
   "metadata": {},
   "source": [
    "## 12.1 Lambda basis\n",
    "\n",
    "- De functie in onderstaande cel vermenigvuldigt de x parameter met de y parameter.\n",
    "- Maak een Lambda functie die hetzelfde doet.\n",
    "- Print het resultaat van de lambda functie"
   ]
  },
  {
   "cell_type": "code",
   "execution_count": 1,
   "metadata": {},
   "outputs": [
    {
     "name": "stdout",
     "output_type": "stream",
     "text": [
      "15\n",
      "6\n"
     ]
    }
   ],
   "source": [
    "def mult(x,y):\n",
    "    result = x * y\n",
    "    return result\n",
    "example = mult(3,5)\n",
    "print(example)\n",
    "\n",
    "mult2 = lambda x, y: x * y\n",
    "print(mult2(2, 3))"
   ]
  },
  {
   "cell_type": "markdown",
   "metadata": {},
   "source": [
    "## 12.2 Map() en lambda\n",
    "- De GBP/EUR wisselkoers is 1.2\n",
    "- gbp_amounts is een list met daarin bedragen in GBP (Britse Ponden)\n",
    "- Maak een list waarin je de GBP bedragen omrekent naar EUR waarbij je gebruik maakt van map() en lambda."
   ]
  },
  {
   "cell_type": "code",
   "execution_count": 2,
   "metadata": {},
   "outputs": [
    {
     "data": {
      "text/plain": [
       "[30.0, 60.0, 90.0, 120.0, 150.0]"
      ]
     },
     "execution_count": 2,
     "metadata": {},
     "output_type": "execute_result"
    }
   ],
   "source": [
    "gbp_eur = 1.2\n",
    "gbp_amounts = [25, 50, 75, 100, 125]\n",
    "eur_amounts = map(lambda x: x * gbp_eur, gbp_amounts)\n",
    "list(eur_amounts)"
   ]
  },
  {
   "cell_type": "markdown",
   "metadata": {},
   "source": [
    "## 12.3 Filter() en lambda \n",
    "- Print een list met daarin alleen de even nummers uit gbp_amounts. Maak darvoor gebruik van filter() en een lambda functie. \n",
    "- Hint: pas de modulo operator toe om te bepalen of het een even getal is."
   ]
  },
  {
   "cell_type": "code",
   "execution_count": 3,
   "metadata": {},
   "outputs": [
    {
     "name": "stdout",
     "output_type": "stream",
     "text": [
      "[50, 100]\n"
     ]
    }
   ],
   "source": [
    "gbp_amounts = [25, 50, 75, 100, 125]\n",
    "\n",
    "gbp_even = filter(lambda x: x % 2 == 0, gbp_amounts)\n",
    "\n",
    "print(list(gbp_even))"
   ]
  },
  {
   "cell_type": "markdown",
   "metadata": {},
   "source": [
    "## 12.4 Reduce() en lambda functies\n",
    "- Print de totale som van de bedragen in gbp_amounts. Maak hierbij gebruik van reduce() en een lambda functie."
   ]
  },
  {
   "cell_type": "code",
   "execution_count": 105,
   "metadata": {},
   "outputs": [
    {
     "name": "stdout",
     "output_type": "stream",
     "text": [
      "375\n"
     ]
    }
   ],
   "source": [
    "from functools import reduce\n",
    "gbp_amounts = [25, 50, 75, 100, 125]\n",
    "\n",
    "gbp_total = reduce(lambda x, y: x + y, gbp_amounts)\n",
    "\n",
    "print(gbp_total)\n",
    "\n"
   ]
  },
  {
   "cell_type": "markdown",
   "metadata": {},
   "source": [
    "## 12.5 Foutmeldingen\n",
    "- Voer onderstaande cel uit om het storedata dataframe aan te maken."
   ]
  },
  {
   "cell_type": "code",
   "execution_count": 79,
   "metadata": {},
   "outputs": [
    {
     "name": "stdout",
     "output_type": "stream",
     "text": [
      "['Town', 'Country', 'Manager name', 'Staff', 'Floor Space', 'Window', 'Car park', 'Demographic score', 'Location', '40min population', '30 min population', '20 min population', '10 min population', 'Store age', 'Clearance space', 'Competition number', 'Competition score', 'Turnover', 'Performance']\n"
     ]
    }
   ],
   "source": [
    "#Importing uncleaned storedata into storedata\n",
    "import pandas as pd\n",
    "import numpy as np\n",
    "storedata = pd.read_csv('storedata.csv', encoding = \"ISO-8859-1\",sep=\",\",index_col=2)\n",
    "storedata.rename(columns={'Profit': 'Turnover'}, inplace=True)\n",
    "\n",
    "print(list(storedata.columns))"
   ]
  },
  {
   "cell_type": "markdown",
   "metadata": {},
   "source": [
    "### 12.5.1 Try en except\n",
    "In onderstaande cel vind je weer de functie waarmee je het aantal unieke waardes in een kolom telt.\n",
    "- Voeg 'try & excecpt' foutafhandeling toe, waarbij de volgende melding wordt geprint als de kolomnaam niet bestaat:\n",
    "\n",
    "\n",
    "Only use column names: ['Town', 'Country', 'Manager name', 'Staff', 'Floor Space', 'Window', 'Car park', 'Demographic score', 'Location', '40min population', '30 min population', '20 min population', '10 min population', 'Store age', 'Clearance space', 'Competition number', 'Competition score', 'Turnover', 'Performance']\n",
    "\n",
    "Hint: in bovenstaande cel vind je hoe je de kolomnamen kunt bepalen.\n"
   ]
  },
  {
   "cell_type": "code",
   "execution_count": 83,
   "metadata": {},
   "outputs": [],
   "source": [
    "def check(df, column):\n",
    "    try:\n",
    "        return len(set(df[column]))\n",
    "    except:\n",
    "        print(f\"Only use column names: {df.columns}\")"
   ]
  },
  {
   "cell_type": "code",
   "execution_count": 86,
   "metadata": {},
   "outputs": [
    {
     "data": {
      "text/plain": [
       "8"
      ]
     },
     "execution_count": 86,
     "metadata": {},
     "output_type": "execute_result"
    }
   ],
   "source": [
    "check(storedata, \"Staff\")"
   ]
  },
  {
   "cell_type": "code",
   "execution_count": 89,
   "metadata": {},
   "outputs": [
    {
     "name": "stdout",
     "output_type": "stream",
     "text": [
      "Only use column names: \n",
      "['Town', 'Country', 'Manager name', 'Staff', 'Floor Space', 'Window', 'Car park', 'Demographic score', 'Location', '40min population', '30 min population', '20 min population', '10 min population', 'Store age', 'Clearance space', 'Competition number', 'Competition score', 'Turnover', 'Performance']\n"
     ]
    }
   ],
   "source": [
    "def check(df,name) :\n",
    "    try:\n",
    "        col = df[name]\n",
    "        count_values = {}\n",
    "        for value in col:\n",
    "            if value in count_values:\n",
    "                count_values[value] = count_values[value] + 1\n",
    "            else:\n",
    "                count_values[value] = 1\n",
    "        return count_values\n",
    "    except:\n",
    "        print(\"Only use column names: \\n\" + str(list(storedata.columns)))\n",
    "\n",
    "check(storedata, \"Stafff\")"
   ]
  },
  {
   "cell_type": "markdown",
   "metadata": {},
   "source": [
    "### 12.5.2 Raising an error\n",
    "\n",
    "- Pas de functie opnieuw aan. Wek nu een \"value error\" op (raise an error) als de de gekozen kolomnaam niet bestaat. Zorg ervoor dat de volgende tekst wordt getoond:\n",
    "\n",
    "Only use column names: ['Town', 'Country', 'Manager name', 'Staff', 'Floor Space', 'Window', 'Car park', 'Demographic score', 'Location', '40min population', '30 min population', '20 min population', '10 min population', 'Store age', 'Clearance space', 'Competition number', 'Competition score', 'Turnover', 'Performance']"
   ]
  },
  {
   "cell_type": "code",
   "execution_count": 93,
   "metadata": {},
   "outputs": [
    {
     "ename": "ValueError",
     "evalue": "Only use column names: ['Town', 'Country', 'Manager name', 'Staff', 'Floor Space', 'Window', 'Car park', 'Demographic score', 'Location', '40min population', '30 min population', '20 min population', '10 min population', 'Store age', 'Clearance space', 'Competition number', 'Competition score', 'Turnover', 'Performance']",
     "output_type": "error",
     "traceback": [
      "\u001b[1;31m---------------------------------------------------------------------------\u001b[0m",
      "\u001b[1;31mValueError\u001b[0m                                Traceback (most recent call last)",
      "\u001b[1;32m~\\AppData\\Local\\Temp\\ipykernel_13596\\1894822611.py\u001b[0m in \u001b[0;36m<module>\u001b[1;34m\u001b[0m\n\u001b[0;32m     12\u001b[0m     \u001b[1;32mreturn\u001b[0m \u001b[0mcount_values\u001b[0m\u001b[1;33m\u001b[0m\u001b[1;33m\u001b[0m\u001b[0m\n\u001b[0;32m     13\u001b[0m \u001b[1;33m\u001b[0m\u001b[0m\n\u001b[1;32m---> 14\u001b[1;33m \u001b[0mcheck\u001b[0m\u001b[1;33m(\u001b[0m\u001b[0mstoredata\u001b[0m\u001b[1;33m,\u001b[0m \u001b[1;34m\"Stafdf\"\u001b[0m\u001b[1;33m)\u001b[0m\u001b[1;33m\u001b[0m\u001b[1;33m\u001b[0m\u001b[0m\n\u001b[0m",
      "\u001b[1;32m~\\AppData\\Local\\Temp\\ipykernel_13596\\1894822611.py\u001b[0m in \u001b[0;36mcheck\u001b[1;34m(df, name)\u001b[0m\n\u001b[0;32m      1\u001b[0m \u001b[1;32mdef\u001b[0m \u001b[0mcheck\u001b[0m\u001b[1;33m(\u001b[0m\u001b[0mdf\u001b[0m\u001b[1;33m,\u001b[0m\u001b[0mname\u001b[0m\u001b[1;33m)\u001b[0m \u001b[1;33m:\u001b[0m\u001b[1;33m\u001b[0m\u001b[1;33m\u001b[0m\u001b[0m\n\u001b[0;32m      2\u001b[0m     \u001b[1;32mif\u001b[0m \u001b[0mname\u001b[0m \u001b[1;32mnot\u001b[0m \u001b[1;32min\u001b[0m \u001b[0mdf\u001b[0m\u001b[1;33m.\u001b[0m\u001b[0mcolumns\u001b[0m\u001b[1;33m:\u001b[0m\u001b[1;33m\u001b[0m\u001b[1;33m\u001b[0m\u001b[0m\n\u001b[1;32m----> 3\u001b[1;33m         \u001b[1;32mraise\u001b[0m \u001b[0mValueError\u001b[0m\u001b[1;33m(\u001b[0m\u001b[1;34m\"Only use column names: \"\u001b[0m \u001b[1;33m+\u001b[0m \u001b[0mstr\u001b[0m\u001b[1;33m(\u001b[0m\u001b[0mlist\u001b[0m\u001b[1;33m(\u001b[0m\u001b[0mstoredata\u001b[0m\u001b[1;33m.\u001b[0m\u001b[0mcolumns\u001b[0m\u001b[1;33m)\u001b[0m\u001b[1;33m)\u001b[0m\u001b[1;33m)\u001b[0m\u001b[1;33m\u001b[0m\u001b[1;33m\u001b[0m\u001b[0m\n\u001b[0m\u001b[0;32m      4\u001b[0m \u001b[1;33m\u001b[0m\u001b[0m\n\u001b[0;32m      5\u001b[0m     \u001b[0mcol\u001b[0m \u001b[1;33m=\u001b[0m \u001b[0mdf\u001b[0m\u001b[1;33m[\u001b[0m\u001b[0mname\u001b[0m\u001b[1;33m]\u001b[0m\u001b[1;33m\u001b[0m\u001b[1;33m\u001b[0m\u001b[0m\n",
      "\u001b[1;31mValueError\u001b[0m: Only use column names: ['Town', 'Country', 'Manager name', 'Staff', 'Floor Space', 'Window', 'Car park', 'Demographic score', 'Location', '40min population', '30 min population', '20 min population', '10 min population', 'Store age', 'Clearance space', 'Competition number', 'Competition score', 'Turnover', 'Performance']"
     ]
    }
   ],
   "source": [
    "def check(df,name) :\n",
    "    if name not in df.columns:\n",
    "        raise ValueError(\"Only use column names: \" + str(list(storedata.columns)))\n",
    "    \n",
    "    col = df[name]\n",
    "    count_values = {}\n",
    "    for value in col:\n",
    "        if value in count_values:\n",
    "            count_values[value] = count_values[value] + 1\n",
    "        else:\n",
    "            count_values[value] = 1\n",
    "    return count_values\n",
    "\n",
    "check(storedata, \"Stafdf\")"
   ]
  },
  {
   "cell_type": "markdown",
   "metadata": {},
   "source": [
    "## 12.6 Integratie\n",
    "\n",
    "- Gebruik filter(lambda) om een list met omzetten uit storedata['Turnover'] te filteren met daarin alleen de bedragen die groter zijn dan 3000000.\n",
    "- Print de list en het aantal elementen in de list"
   ]
  },
  {
   "cell_type": "code",
   "execution_count": 94,
   "metadata": {},
   "outputs": [
    {
     "name": "stdout",
     "output_type": "stream",
     "text": [
      "[3410865, 4034051, 3058134, 3345936, 3117205, 3153278, 3056804, 3797953, 3138911, 3321899, 3640627, 3075352, 3491993, 3252148, 3041618, 3737466, 4217291, 3516397, 3957233, 4253984, 4185306, 4160531, 3100521, 3246954, 3741911, 4137224, 3572475, 3121837, 4176642, 4300537, 3758014, 3032277, 3625088, 3336417, 3175101, 4587304, 3029751, 3418735, 3197934, 3135133, 3822904, 3524409, 3709026, 3337861, 3260276, 4237135, 3007050, 4018966, 3817558, 4793593, 3192066, 3092180, 3606536, 3304795, 3663843, 3965957, 3487542, 3102538, 3895318, 3741407, 3654694, 3598894, 3444876, 3891535, 3498966, 3501093, 3774401, 3584813, 3485295] \n",
      "\n",
      "Het aantal elementen in de list: 69\n"
     ]
    }
   ],
   "source": [
    "turnover_high = list(filter(lambda x: x > 3000000, storedata[\"Turnover\"]))\n",
    "print(turnover_high, \"\\n\\nHet aantal elementen in de list:\", len(turnover_high))"
   ]
  },
  {
   "cell_type": "code",
   "execution_count": 99,
   "metadata": {},
   "outputs": [
    {
     "name": "stdout",
     "output_type": "stream",
     "text": [
      "Store ID\n",
      "1437     3410865\n",
      "1544     4034051\n",
      "2309     3058134\n",
      "4214     3345936\n",
      "4857     3117205\n",
      "          ...   \n",
      "92341    3498966\n",
      "93212    3501093\n",
      "93991    3774401\n",
      "95915    3584813\n",
      "99854    3485295\n",
      "Name: Turnover, Length: 69, dtype: int64 \n",
      "\n",
      "Het aantal elementen in de list: 69\n"
     ]
    }
   ],
   "source": [
    "turnover_high = storedata[storedata[\"Turnover\"] > 3000000][\"Turnover\"]\n",
    "print(turnover_high, \"\\n\\nHet aantal elementen in de list:\", len(turnover_high))"
   ]
  },
  {
   "cell_type": "code",
   "execution_count": null,
   "metadata": {},
   "outputs": [],
   "source": []
  }
 ],
 "metadata": {
  "kernelspec": {
   "display_name": "Python 3 (ipykernel)",
   "language": "python",
   "name": "python3"
  },
  "language_info": {
   "codemirror_mode": {
    "name": "ipython",
    "version": 3
   },
   "file_extension": ".py",
   "mimetype": "text/x-python",
   "name": "python",
   "nbconvert_exporter": "python",
   "pygments_lexer": "ipython3",
   "version": "3.9.13"
  }
 },
 "nbformat": 4,
 "nbformat_minor": 2
}
