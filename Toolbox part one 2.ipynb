{
 "cells": [
  {
   "cell_type": "markdown",
   "metadata": {},
   "source": [
    "# Toolbox part one 2 \n",
    "- Scope\n",
    "- default arguments \n",
    "- variable lenght arguments"
   ]
  },
  {
   "cell_type": "markdown",
   "metadata": {},
   "source": [
    "## 11.1 Global & local scope\n",
    "- Voer onderstaande cel uit."
   ]
  },
  {
   "cell_type": "code",
   "execution_count": 10,
   "metadata": {},
   "outputs": [
    {
     "name": "stdout",
     "output_type": "stream",
     "text": [
      "100\n"
     ]
    }
   ],
   "source": [
    "result = 100\n",
    "\n",
    "def mult(x,y):\n",
    "    result = x * y\n",
    "    return result\n",
    "\n",
    "mult(2,3)\n",
    "print(result)"
   ]
  },
  {
   "cell_type": "markdown",
   "metadata": {},
   "source": [
    "- Verander de definitie van de functie zodanig dat het printen van result de uitkomst van de functie weergeeft."
   ]
  },
  {
   "cell_type": "code",
   "execution_count": 14,
   "metadata": {},
   "outputs": [
    {
     "name": "stdout",
     "output_type": "stream",
     "text": [
      "6\n"
     ]
    }
   ],
   "source": [
    "result = 100\n",
    "\n",
    "def mult(x,y):\n",
    "    global result\n",
    "    result = x * y\n",
    "\n",
    "mult(2,3)\n",
    "print(result)"
   ]
  },
  {
   "cell_type": "markdown",
   "metadata": {},
   "source": [
    "## 11.2 Nested functions\n",
    "- Definieer een 'nested function' met 3 parameters\n",
    "- De 'innner function' telt 10 op bij iedere parameter.\n",
    "- Pas 1,2,3 toe als parameters en print het resultaat van de functie. Het juiste resultaat is (11,12,13)."
   ]
  },
  {
   "cell_type": "code",
   "execution_count": 3,
   "metadata": {},
   "outputs": [
    {
     "name": "stdout",
     "output_type": "stream",
     "text": [
      "(11, 12, 13)\n"
     ]
    }
   ],
   "source": [
    "def outer(x, y, z):\n",
    "    def inner (x1):\n",
    "        return (x1 +10)\n",
    "    return(inner(x), inner(y), inner(z))\n",
    "print(outer(1, 2 ,3))"
   ]
  },
  {
   "cell_type": "markdown",
   "metadata": {},
   "source": [
    "## 11.3 Closure\n",
    "Verander onderstaande cel zodanig dat het gegeven \"print statement\" 36 en 216 print\n",
    "- 36 = 6 tot de 2e macht\n",
    "- 216 = 6 tot de 3e macht\n",
    "\n",
    "Deze opdracht is gebaseerd op:\n",
    "\n",
    "- Python Data Science Toolbox (part 1).\n",
    "- Chapter: Default arguments, variable length arguments and scope\n",
    "- Exercise: Nested Functions I."
   ]
  },
  {
   "cell_type": "code",
   "execution_count": 4,
   "metadata": {
    "scrolled": true
   },
   "outputs": [
    {
     "name": "stdout",
     "output_type": "stream",
     "text": [
      "36 and 216\n"
     ]
    }
   ],
   "source": [
    "def power(n):\n",
    "    def inner(number):\n",
    "        result = number ** n\n",
    "        return result\n",
    "    return inner\n",
    "\n",
    "power_of_2 = power(2)\n",
    "power_of_3 = power(3)\n",
    "print(power_of_2(6), 'and', power_of_3(6))"
   ]
  },
  {
   "cell_type": "markdown",
   "metadata": {},
   "source": [
    "- Leg het begrip closure uit in de context van bovenstaande functie"
   ]
  },
  {
   "cell_type": "code",
   "execution_count": 5,
   "metadata": {},
   "outputs": [
    {
     "name": "stdout",
     "output_type": "stream",
     "text": [
      "Alles wat in de outer functie wordt gedefinieerd wordt opgeslagen in de closure en is beschikbaar voor de inner functie.\n"
     ]
    }
   ],
   "source": [
    "print(\"Alles wat in de outer functie wordt gedefinieerd wordt opgeslagen in de closure en is beschikbaar voor de inner functie.\")"
   ]
  },
  {
   "cell_type": "markdown",
   "metadata": {},
   "source": [
    "## 11.4 Local vs nonlocal\n",
    "Er zit een fout in onderstaande functie. Pas de functie aan zodat de functie werkt zoals hij bedoeld is. Het gewenste resultaat is:\n",
    "- De parameter n wordt eerst verdubbeld in de outer functie en daarna weer verdubbeld in de innner functie.\n",
    "- Voorbeeld: double_double(5) moet als uitkomst 20 hebben."
   ]
  },
  {
   "cell_type": "code",
   "execution_count": 6,
   "metadata": {},
   "outputs": [
    {
     "name": "stdout",
     "output_type": "stream",
     "text": [
      "20\n"
     ]
    }
   ],
   "source": [
    "def double_double(n):\n",
    "    double = n * 2\n",
    "    def inner():\n",
    "        nonlocal double\n",
    "        double = double * 2\n",
    "        return double\n",
    "    return inner()\n",
    "print(double_double(5))"
   ]
  },
  {
   "cell_type": "markdown",
   "metadata": {},
   "source": [
    "## 11.5 Default arguments\n"
   ]
  },
  {
   "cell_type": "markdown",
   "metadata": {},
   "source": [
    "- Definieer een functie met 2 parameters. De eerste parameter is een getal en de tweede parameter geeft aan tot welke macht het getal wordt geheven. Als de tweede parameter 3 is dan wordt het getal geheven tot de derde macht.\n",
    "- De 'default' instelling is dat er wordt geheven tot de tweede macht.\n",
    "- Print het resultaat van je functie als de 'default' instellingen worden toegepast op het getal 3.\n",
    "- Print het resultaat van je functie waarmee je 3 tot de 5e macht uitvoert."
   ]
  },
  {
   "cell_type": "code",
   "execution_count": 52,
   "metadata": {},
   "outputs": [
    {
     "data": {
      "text/plain": [
       "243"
      ]
     },
     "execution_count": 52,
     "metadata": {},
     "output_type": "execute_result"
    }
   ],
   "source": [
    "def func(number, power = 2):\n",
    "    return number ** power\n",
    "\n",
    "func(3)\n",
    "func(3, 5)"
   ]
  },
  {
   "cell_type": "markdown",
   "metadata": {},
   "source": [
    "- Kopieer en hernoem de functie van de vorige opdracht. \n",
    "- De nieuwe functie krijgt een derde parameter. Als de waarde van deze parameter True is, dan dient de uitkomst van de functie een integer te zijn.\n",
    "- De default instelling van de integer-parameter is False.\n",
    "- Print het resultaat van de functie met de standaard instellingen en het getal 3.219\n",
    "- Print het resultaat van de functie als de integer-parameter op True staat.\n"
   ]
  },
  {
   "cell_type": "code",
   "execution_count": 65,
   "metadata": {},
   "outputs": [
    {
     "data": {
      "text/plain": [
       "345.624788929212"
      ]
     },
     "execution_count": 65,
     "metadata": {},
     "output_type": "execute_result"
    }
   ],
   "source": [
    "def integer(number, power = 2, integer = False):\n",
    "    if integer:\n",
    "        return int(number ** power)\n",
    "    else:\n",
    "        return number ** power\n",
    "integer(3.219, power = 5)"
   ]
  },
  {
   "cell_type": "code",
   "execution_count": 8,
   "metadata": {},
   "outputs": [
    {
     "name": "stdout",
     "output_type": "stream",
     "text": [
      "10.361960999999999\n",
      "10\n"
     ]
    }
   ],
   "source": [
    "def fact2(number, power = 2, IsInt = False):\n",
    "    if IsInt:\n",
    "        return int(number ** power)\n",
    "    else:\n",
    "        return number ** power\n",
    "\n",
    "print(fact2(3.219))\n",
    "print(fact2(3.219, IsInt = True))"
   ]
  },
  {
   "cell_type": "markdown",
   "metadata": {},
   "source": [
    "## 11.6 Flexible arguments"
   ]
  },
  {
   "cell_type": "markdown",
   "metadata": {},
   "source": [
    "- Maak een args functie die alle getallen die je als parameter ingeeft bij elkaar optelt.\n",
    "- Print het resultaat van de functie waarbij je de volgende getallen gebruikt: 1, 3, 5, 8, 7.29"
   ]
  },
  {
   "cell_type": "code",
   "execution_count": 67,
   "metadata": {},
   "outputs": [],
   "source": [
    "def add(*args):\n",
    "    return sum(args)"
   ]
  },
  {
   "cell_type": "code",
   "execution_count": 69,
   "metadata": {},
   "outputs": [
    {
     "data": {
      "text/plain": [
       "24.29"
      ]
     },
     "execution_count": 69,
     "metadata": {},
     "output_type": "execute_result"
    }
   ],
   "source": [
    "add(1, 3, 5, 8, 7.29)"
   ]
  },
  {
   "cell_type": "code",
   "execution_count": 9,
   "metadata": {},
   "outputs": [
    {
     "data": {
      "text/plain": [
       "5"
      ]
     },
     "execution_count": 9,
     "metadata": {},
     "output_type": "execute_result"
    }
   ],
   "source": [
    "def add_all(*args):\n",
    "    sum = 0\n",
    "    for i in args:\n",
    "        sum += i\n",
    "    return sum\n",
    "\n",
    "add_all(2, 3)"
   ]
  },
  {
   "cell_type": "markdown",
   "metadata": {},
   "source": [
    "- Definieer een kwargs functie.\n",
    "- Deze functie berekent het kortingsbedrag per klant.\n",
    "- De meeste klanten krijgen geen korting. Alleen john en viola krijgen een korting van respectievelijk 5% en 7%.\n",
    "- De argumenten (function arguments) hebben de volgende structuur: naam = orderbedrag. Voorbeeld: als John voor 1000 Euro bestelt dan is het 'function argument': john=1000.\n",
    "- Het kortingsbedrag is het orderbedrag maal het kortingspercentage.\n",
    "\n",
    "-  Pas de functie in onderstaande cel aan zodat het volgende wordt geprint:\n",
    "\n",
    "john gets a discount of 50.0  \n",
    "viola gets a discount of 140.0  \n",
    "your_name gets a discount of 0  \n"
   ]
  },
  {
   "cell_type": "code",
   "execution_count": 10,
   "metadata": {},
   "outputs": [
    {
     "name": "stdout",
     "output_type": "stream",
     "text": [
      "john gets a discount of 50.0\n",
      "viola gets a discount of 140.0\n",
      "your_name gets a discount of 0\n"
     ]
    }
   ],
   "source": [
    "def cust_dis(**kwargs):\n",
    "    for i, j in kwargs.items():\n",
    "        if i == \"john\":\n",
    "            print(i + \" gets a discount of \" + str(j * 0.05))\n",
    "        elif i == \"viola\":\n",
    "            print(i + \" gets a discount of \" + str(j * 0.07))\n",
    "        else:\n",
    "            print(i + \" gets a discount of 0\")\n",
    "\n",
    "        \n",
    "cust_dis(john=1000, viola=2000, your_name=1000)"
   ]
  },
  {
   "cell_type": "markdown",
   "metadata": {},
   "source": [
    "## 11.7 Integratie\n",
    "- Voer onderstaande cel uit om het storedata dataframe aan te maken."
   ]
  },
  {
   "cell_type": "code",
   "execution_count": 11,
   "metadata": {},
   "outputs": [],
   "source": [
    "#Importing uncleaned storedata into storedata\n",
    "import pandas as pd\n",
    "import numpy as np\n",
    "storedata = pd.read_csv('storedata.csv', encoding = \"ISO-8859-1\",sep=\",\",index_col=2)\n",
    "storedata.rename(columns={'Profit': 'Turnover'}, inplace=True)"
   ]
  },
  {
   "cell_type": "markdown",
   "metadata": {},
   "source": [
    "In de volgende cel vind je de functie die het aantal unieke waardes telt in de kolommen van een dataframe. Dit is dezelfde functie als die je in een eerdere les hebt gemaakt.\n",
    "\n",
    "- Maak storedata en 'Staff' de default parameters van deze functie\n",
    "- Test de functie door check() uit te voeren"
   ]
  },
  {
   "cell_type": "code",
   "execution_count": 12,
   "metadata": {},
   "outputs": [
    {
     "name": "stdout",
     "output_type": "stream",
     "text": [
      "Staff {9: 28, 8: 18, -2: 1, 7: 29, 5: 29, 6: 29, 300: 1, 600: 1}\n"
     ]
    }
   ],
   "source": [
    "def check(df = storedata, name = \"Staff\") :\n",
    "    col = df[name]\n",
    "    count_values = {}\n",
    "    for value in col:\n",
    "        if value in count_values:\n",
    "            count_values[value] = count_values[value] + 1\n",
    "        else:\n",
    "            count_values[value] = 1\n",
    "    print(col.name, count_values)\n",
    "check()"
   ]
  },
  {
   "cell_type": "markdown",
   "metadata": {},
   "source": [
    "- Kopieer de code van bovenstaande cel in de onderstaande cel. Verander de functie in een args functie die het mogelijk maakt om meerdere kolomnamen in te voeren.\n",
    "\n",
    "- Het uitvoeren van check(storedata, 'Staff', 'Car park') zorg ervoor dat de kolomnaam wordt afgedrukt en de dictionary met de unieke waardes:\n",
    "    - Staff {9: 28, 8: 18, -2: 1, 7: 29, 5: 29, 6: 29, 300: 1, 600: 1}\n",
    "    - Car park {'Yes': 94, 'No': 35, 'Y': 4, 'N': 3}\n"
   ]
  },
  {
   "cell_type": "code",
   "execution_count": 13,
   "metadata": {},
   "outputs": [
    {
     "name": "stdout",
     "output_type": "stream",
     "text": [
      "Staff {9: 28, 8: 18, -2: 1, 7: 29, 5: 29, 6: 29, 300: 1, 600: 1}\n",
      "Car park {'Yes': 94, 'No': 35, 'Y': 4, 'N': 3}\n"
     ]
    }
   ],
   "source": [
    "def check(df, *args) :\n",
    "    for i in args:\n",
    "        col = df[i]\n",
    "        count_values = {}\n",
    "        for value in col:\n",
    "            if value in count_values:\n",
    "                count_values[value] = count_values[value] + 1\n",
    "            else:\n",
    "                count_values[value] = 1\n",
    "        print(col.name, count_values)\n",
    "check(storedata, 'Staff', 'Car park')"
   ]
  }
 ],
 "metadata": {
  "kernelspec": {
   "display_name": "Python 3 (ipykernel)",
   "language": "python",
   "name": "python3"
  },
  "language_info": {
   "codemirror_mode": {
    "name": "ipython",
    "version": 3
   },
   "file_extension": ".py",
   "mimetype": "text/x-python",
   "name": "python",
   "nbconvert_exporter": "python",
   "pygments_lexer": "ipython3",
   "version": "3.9.13"
  }
 },
 "nbformat": 4,
 "nbformat_minor": 2
}
