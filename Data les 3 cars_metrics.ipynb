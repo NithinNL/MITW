{
 "cells": [
  {
   "cell_type": "markdown",
   "metadata": {},
   "source": [
    "# Assignment 1: k-Nearest Neighbors multi-classification"
   ]
  },
  {
   "cell_type": "markdown",
   "metadata": {},
   "source": [
    "In this assignment you'll have to predict the decisions made about cars. There are 4 potential decisions:\n",
    "\n",
    "- 'unacc': unacceptable\n",
    "- 'acc', : acceptable\n",
    "- 'good',: good\n",
    "- 'vgood': very good\n",
    "\n",
    "Because there are 4 decision options this is called a multi-class classification problem. Please be aware that these decision categories are ordinal. The \"lowest\" decision is unacceptable and the \"highest\" decision is very good. \n",
    "\n",
    "Using 6 cars' features you'll try to predict the decision that will be made. These features are stored in the first 6 columns of the dataset. The seventh column contains the decisions made about the cars."
   ]
  },
  {
   "cell_type": "markdown",
   "metadata": {},
   "source": [
    "## 1 import and pre-process dataset\n",
    "- Run the next cell to import libraries"
   ]
  },
  {
   "cell_type": "code",
   "execution_count": 1,
   "metadata": {},
   "outputs": [],
   "source": [
    "import pandas as pd\n",
    "import numpy as np\n",
    "from matplotlib import pyplot as plt\n",
    "import seaborn as sns\n",
    "%matplotlib inline"
   ]
  },
  {
   "cell_type": "markdown",
   "metadata": {},
   "source": [
    "### 1A import data set\n",
    "- import the csv file cars.csv into a dataframe\n",
    "- inspect the dataframe to make sure the data is correctly imported. Hint: check the number of rows. "
   ]
  },
  {
   "cell_type": "code",
   "execution_count": 2,
   "metadata": {},
   "outputs": [
    {
     "data": {
      "text/html": [
       "<div>\n",
       "<style scoped>\n",
       "    .dataframe tbody tr th:only-of-type {\n",
       "        vertical-align: middle;\n",
       "    }\n",
       "\n",
       "    .dataframe tbody tr th {\n",
       "        vertical-align: top;\n",
       "    }\n",
       "\n",
       "    .dataframe thead th {\n",
       "        text-align: right;\n",
       "    }\n",
       "</style>\n",
       "<table border=\"1\" class=\"dataframe\">\n",
       "  <thead>\n",
       "    <tr style=\"text-align: right;\">\n",
       "      <th></th>\n",
       "      <th>0</th>\n",
       "      <th>1</th>\n",
       "      <th>2</th>\n",
       "      <th>3</th>\n",
       "      <th>4</th>\n",
       "      <th>5</th>\n",
       "      <th>6</th>\n",
       "    </tr>\n",
       "  </thead>\n",
       "  <tbody>\n",
       "    <tr>\n",
       "      <th>0</th>\n",
       "      <td>vhigh</td>\n",
       "      <td>vhigh</td>\n",
       "      <td>2</td>\n",
       "      <td>2</td>\n",
       "      <td>small</td>\n",
       "      <td>low</td>\n",
       "      <td>unacc</td>\n",
       "    </tr>\n",
       "    <tr>\n",
       "      <th>1</th>\n",
       "      <td>vhigh</td>\n",
       "      <td>vhigh</td>\n",
       "      <td>2</td>\n",
       "      <td>2</td>\n",
       "      <td>small</td>\n",
       "      <td>med</td>\n",
       "      <td>unacc</td>\n",
       "    </tr>\n",
       "    <tr>\n",
       "      <th>2</th>\n",
       "      <td>vhigh</td>\n",
       "      <td>vhigh</td>\n",
       "      <td>2</td>\n",
       "      <td>2</td>\n",
       "      <td>small</td>\n",
       "      <td>high</td>\n",
       "      <td>unacc</td>\n",
       "    </tr>\n",
       "    <tr>\n",
       "      <th>3</th>\n",
       "      <td>vhigh</td>\n",
       "      <td>vhigh</td>\n",
       "      <td>2</td>\n",
       "      <td>2</td>\n",
       "      <td>med</td>\n",
       "      <td>low</td>\n",
       "      <td>unacc</td>\n",
       "    </tr>\n",
       "    <tr>\n",
       "      <th>4</th>\n",
       "      <td>vhigh</td>\n",
       "      <td>vhigh</td>\n",
       "      <td>2</td>\n",
       "      <td>2</td>\n",
       "      <td>med</td>\n",
       "      <td>med</td>\n",
       "      <td>unacc</td>\n",
       "    </tr>\n",
       "    <tr>\n",
       "      <th>...</th>\n",
       "      <td>...</td>\n",
       "      <td>...</td>\n",
       "      <td>...</td>\n",
       "      <td>...</td>\n",
       "      <td>...</td>\n",
       "      <td>...</td>\n",
       "      <td>...</td>\n",
       "    </tr>\n",
       "    <tr>\n",
       "      <th>1723</th>\n",
       "      <td>low</td>\n",
       "      <td>low</td>\n",
       "      <td>5more</td>\n",
       "      <td>more</td>\n",
       "      <td>med</td>\n",
       "      <td>med</td>\n",
       "      <td>good</td>\n",
       "    </tr>\n",
       "    <tr>\n",
       "      <th>1724</th>\n",
       "      <td>low</td>\n",
       "      <td>low</td>\n",
       "      <td>5more</td>\n",
       "      <td>more</td>\n",
       "      <td>med</td>\n",
       "      <td>high</td>\n",
       "      <td>vgood</td>\n",
       "    </tr>\n",
       "    <tr>\n",
       "      <th>1725</th>\n",
       "      <td>low</td>\n",
       "      <td>low</td>\n",
       "      <td>5more</td>\n",
       "      <td>more</td>\n",
       "      <td>big</td>\n",
       "      <td>low</td>\n",
       "      <td>unacc</td>\n",
       "    </tr>\n",
       "    <tr>\n",
       "      <th>1726</th>\n",
       "      <td>low</td>\n",
       "      <td>low</td>\n",
       "      <td>5more</td>\n",
       "      <td>more</td>\n",
       "      <td>big</td>\n",
       "      <td>med</td>\n",
       "      <td>good</td>\n",
       "    </tr>\n",
       "    <tr>\n",
       "      <th>1727</th>\n",
       "      <td>low</td>\n",
       "      <td>low</td>\n",
       "      <td>5more</td>\n",
       "      <td>more</td>\n",
       "      <td>big</td>\n",
       "      <td>high</td>\n",
       "      <td>vgood</td>\n",
       "    </tr>\n",
       "  </tbody>\n",
       "</table>\n",
       "<p>1728 rows × 7 columns</p>\n",
       "</div>"
      ],
      "text/plain": [
       "          0      1      2     3      4     5      6\n",
       "0     vhigh  vhigh      2     2  small   low  unacc\n",
       "1     vhigh  vhigh      2     2  small   med  unacc\n",
       "2     vhigh  vhigh      2     2  small  high  unacc\n",
       "3     vhigh  vhigh      2     2    med   low  unacc\n",
       "4     vhigh  vhigh      2     2    med   med  unacc\n",
       "...     ...    ...    ...   ...    ...   ...    ...\n",
       "1723    low    low  5more  more    med   med   good\n",
       "1724    low    low  5more  more    med  high  vgood\n",
       "1725    low    low  5more  more    big   low  unacc\n",
       "1726    low    low  5more  more    big   med   good\n",
       "1727    low    low  5more  more    big  high  vgood\n",
       "\n",
       "[1728 rows x 7 columns]"
      ]
     },
     "execution_count": 2,
     "metadata": {},
     "output_type": "execute_result"
    }
   ],
   "source": [
    "df = pd.read_csv('cars.csv', header = None )\n",
    "df"
   ]
  },
  {
   "cell_type": "markdown",
   "metadata": {},
   "source": [
    "### 1B change column names\n",
    "- Change the names of the columns:\n",
    "    - First column name: 'buy_price'\n",
    "    - Second column name: 'maint_cost'\n",
    "    - Third:'num_doors'\n",
    "    - Fourth: 'num_persons'\n",
    "    - Fifth: 'lug_boot'\n",
    "    - Sixth:'safety'\n",
    "    - Last: 'decision'\n",
    "- Check if the column names are correctly changed"
   ]
  },
  {
   "cell_type": "code",
   "execution_count": 3,
   "metadata": {},
   "outputs": [
    {
     "data": {
      "text/html": [
       "<div>\n",
       "<style scoped>\n",
       "    .dataframe tbody tr th:only-of-type {\n",
       "        vertical-align: middle;\n",
       "    }\n",
       "\n",
       "    .dataframe tbody tr th {\n",
       "        vertical-align: top;\n",
       "    }\n",
       "\n",
       "    .dataframe thead th {\n",
       "        text-align: right;\n",
       "    }\n",
       "</style>\n",
       "<table border=\"1\" class=\"dataframe\">\n",
       "  <thead>\n",
       "    <tr style=\"text-align: right;\">\n",
       "      <th></th>\n",
       "      <th>buy_price</th>\n",
       "      <th>maint_cost</th>\n",
       "      <th>num_doors</th>\n",
       "      <th>num_persons</th>\n",
       "      <th>lug_boot</th>\n",
       "      <th>safety</th>\n",
       "      <th>decision</th>\n",
       "    </tr>\n",
       "  </thead>\n",
       "  <tbody>\n",
       "    <tr>\n",
       "      <th>0</th>\n",
       "      <td>vhigh</td>\n",
       "      <td>vhigh</td>\n",
       "      <td>2</td>\n",
       "      <td>2</td>\n",
       "      <td>small</td>\n",
       "      <td>low</td>\n",
       "      <td>unacc</td>\n",
       "    </tr>\n",
       "    <tr>\n",
       "      <th>1</th>\n",
       "      <td>vhigh</td>\n",
       "      <td>vhigh</td>\n",
       "      <td>2</td>\n",
       "      <td>2</td>\n",
       "      <td>small</td>\n",
       "      <td>med</td>\n",
       "      <td>unacc</td>\n",
       "    </tr>\n",
       "    <tr>\n",
       "      <th>2</th>\n",
       "      <td>vhigh</td>\n",
       "      <td>vhigh</td>\n",
       "      <td>2</td>\n",
       "      <td>2</td>\n",
       "      <td>small</td>\n",
       "      <td>high</td>\n",
       "      <td>unacc</td>\n",
       "    </tr>\n",
       "    <tr>\n",
       "      <th>3</th>\n",
       "      <td>vhigh</td>\n",
       "      <td>vhigh</td>\n",
       "      <td>2</td>\n",
       "      <td>2</td>\n",
       "      <td>med</td>\n",
       "      <td>low</td>\n",
       "      <td>unacc</td>\n",
       "    </tr>\n",
       "    <tr>\n",
       "      <th>4</th>\n",
       "      <td>vhigh</td>\n",
       "      <td>vhigh</td>\n",
       "      <td>2</td>\n",
       "      <td>2</td>\n",
       "      <td>med</td>\n",
       "      <td>med</td>\n",
       "      <td>unacc</td>\n",
       "    </tr>\n",
       "    <tr>\n",
       "      <th>...</th>\n",
       "      <td>...</td>\n",
       "      <td>...</td>\n",
       "      <td>...</td>\n",
       "      <td>...</td>\n",
       "      <td>...</td>\n",
       "      <td>...</td>\n",
       "      <td>...</td>\n",
       "    </tr>\n",
       "    <tr>\n",
       "      <th>1723</th>\n",
       "      <td>low</td>\n",
       "      <td>low</td>\n",
       "      <td>5more</td>\n",
       "      <td>more</td>\n",
       "      <td>med</td>\n",
       "      <td>med</td>\n",
       "      <td>good</td>\n",
       "    </tr>\n",
       "    <tr>\n",
       "      <th>1724</th>\n",
       "      <td>low</td>\n",
       "      <td>low</td>\n",
       "      <td>5more</td>\n",
       "      <td>more</td>\n",
       "      <td>med</td>\n",
       "      <td>high</td>\n",
       "      <td>vgood</td>\n",
       "    </tr>\n",
       "    <tr>\n",
       "      <th>1725</th>\n",
       "      <td>low</td>\n",
       "      <td>low</td>\n",
       "      <td>5more</td>\n",
       "      <td>more</td>\n",
       "      <td>big</td>\n",
       "      <td>low</td>\n",
       "      <td>unacc</td>\n",
       "    </tr>\n",
       "    <tr>\n",
       "      <th>1726</th>\n",
       "      <td>low</td>\n",
       "      <td>low</td>\n",
       "      <td>5more</td>\n",
       "      <td>more</td>\n",
       "      <td>big</td>\n",
       "      <td>med</td>\n",
       "      <td>good</td>\n",
       "    </tr>\n",
       "    <tr>\n",
       "      <th>1727</th>\n",
       "      <td>low</td>\n",
       "      <td>low</td>\n",
       "      <td>5more</td>\n",
       "      <td>more</td>\n",
       "      <td>big</td>\n",
       "      <td>high</td>\n",
       "      <td>vgood</td>\n",
       "    </tr>\n",
       "  </tbody>\n",
       "</table>\n",
       "<p>1728 rows × 7 columns</p>\n",
       "</div>"
      ],
      "text/plain": [
       "     buy_price maint_cost num_doors num_persons lug_boot safety decision\n",
       "0        vhigh      vhigh         2           2    small    low    unacc\n",
       "1        vhigh      vhigh         2           2    small    med    unacc\n",
       "2        vhigh      vhigh         2           2    small   high    unacc\n",
       "3        vhigh      vhigh         2           2      med    low    unacc\n",
       "4        vhigh      vhigh         2           2      med    med    unacc\n",
       "...        ...        ...       ...         ...      ...    ...      ...\n",
       "1723       low        low     5more        more      med    med     good\n",
       "1724       low        low     5more        more      med   high    vgood\n",
       "1725       low        low     5more        more      big    low    unacc\n",
       "1726       low        low     5more        more      big    med     good\n",
       "1727       low        low     5more        more      big   high    vgood\n",
       "\n",
       "[1728 rows x 7 columns]"
      ]
     },
     "execution_count": 3,
     "metadata": {},
     "output_type": "execute_result"
    }
   ],
   "source": [
    "df.columns = ['buy_price','maint_cost','num_doors','num_persons','lug_boot','safety','decision']\n",
    "df"
   ]
  },
  {
   "cell_type": "markdown",
   "metadata": {},
   "source": [
    "### 1C Determine unique values in each columns\n",
    "- Make 7 lists that show the unique values of each column.\n",
    "- Hint: the set() function shows unique values."
   ]
  },
  {
   "cell_type": "code",
   "execution_count": 4,
   "metadata": {},
   "outputs": [
    {
     "data": {
      "text/plain": [
       "'bp'"
      ]
     },
     "metadata": {},
     "output_type": "display_data"
    },
    {
     "data": {
      "text/plain": [
       "['low', 'vhigh', 'high', 'med']"
      ]
     },
     "metadata": {},
     "output_type": "display_data"
    },
    {
     "data": {
      "text/plain": [
       "'mc'"
      ]
     },
     "metadata": {},
     "output_type": "display_data"
    },
    {
     "data": {
      "text/plain": [
       "['low', 'vhigh', 'high', 'med']"
      ]
     },
     "metadata": {},
     "output_type": "display_data"
    },
    {
     "data": {
      "text/plain": [
       "'nd'"
      ]
     },
     "metadata": {},
     "output_type": "display_data"
    },
    {
     "data": {
      "text/plain": [
       "['2', '5more', '4', '3']"
      ]
     },
     "metadata": {},
     "output_type": "display_data"
    },
    {
     "data": {
      "text/plain": [
       "'np'"
      ]
     },
     "metadata": {},
     "output_type": "display_data"
    },
    {
     "data": {
      "text/plain": [
       "['2', 'more', '4']"
      ]
     },
     "metadata": {},
     "output_type": "display_data"
    },
    {
     "data": {
      "text/plain": [
       "'lb'"
      ]
     },
     "metadata": {},
     "output_type": "display_data"
    },
    {
     "data": {
      "text/plain": [
       "['small', 'big', 'med']"
      ]
     },
     "metadata": {},
     "output_type": "display_data"
    },
    {
     "data": {
      "text/plain": [
       "'sy'"
      ]
     },
     "metadata": {},
     "output_type": "display_data"
    },
    {
     "data": {
      "text/plain": [
       "['low', 'high', 'med']"
      ]
     },
     "metadata": {},
     "output_type": "display_data"
    },
    {
     "data": {
      "text/plain": [
       "'dn'"
      ]
     },
     "metadata": {},
     "output_type": "display_data"
    },
    {
     "data": {
      "text/plain": [
       "['good', 'acc', 'unacc', 'vgood']"
      ]
     },
     "metadata": {},
     "output_type": "display_data"
    },
    {
     "name": "stdout",
     "output_type": "stream",
     "text": [
      "buy_price\n",
      "['vhigh' 'high' 'med' 'low'] \n",
      "\n",
      "maint_cost\n",
      "['vhigh' 'high' 'med' 'low'] \n",
      "\n",
      "num_doors\n",
      "['2' '3' '4' '5more'] \n",
      "\n",
      "num_persons\n",
      "['2' '4' 'more'] \n",
      "\n",
      "lug_boot\n",
      "['small' 'med' 'big'] \n",
      "\n",
      "safety\n",
      "['low' 'med' 'high'] \n",
      "\n",
      "decision\n",
      "['unacc' 'acc' 'vgood' 'good'] \n",
      "\n"
     ]
    }
   ],
   "source": [
    "bp = list(set(df['buy_price']))\n",
    "mc = list(set(df['maint_cost']))\n",
    "nd = list(set(df['num_doors']))\n",
    "np = list(set(df['num_persons']))\n",
    "lb = list(set(df['lug_boot']))\n",
    "sy = list(set(df['safety']))\n",
    "dn = list(set(df['decision']))\n",
    "\n",
    "display('bp', bp, 'mc', mc, 'nd' , nd , 'np', np, 'lb', lb, 'sy', sy, 'dn', dn)\n",
    "\n",
    "for i in df.columns:\n",
    "    print(i)\n",
    "    print(df[i].unique(),\"\\n\")"
   ]
  },
  {
   "cell_type": "code",
   "execution_count": 5,
   "metadata": {},
   "outputs": [
    {
     "name": "stdout",
     "output_type": "stream",
     "text": [
      "column name: buy_price\n",
      "['vhigh' 'high' 'med' 'low'] \n",
      "\n",
      "column name: maint_cost\n",
      "['vhigh' 'high' 'med' 'low'] \n",
      "\n",
      "column name: num_doors\n",
      "['2' '3' '4' '5more'] \n",
      "\n",
      "column name: num_persons\n",
      "['2' '4' 'more'] \n",
      "\n",
      "column name: lug_boot\n",
      "['small' 'med' 'big'] \n",
      "\n",
      "column name: safety\n",
      "['low' 'med' 'high'] \n",
      "\n",
      "column name: decision\n",
      "['unacc' 'acc' 'vgood' 'good'] \n",
      "\n"
     ]
    }
   ],
   "source": [
    "for i in df:\n",
    "    print(f\"column name: {i}\\n{df[i].unique()} \\n\")"
   ]
  },
  {
   "cell_type": "code",
   "execution_count": 6,
   "metadata": {},
   "outputs": [
    {
     "data": {
      "text/plain": [
       "{'buy_price': {'high', 'low', 'med', 'vhigh'},\n",
       " 'maint_cost': {'high', 'low', 'med', 'vhigh'},\n",
       " 'num_doors': {'2', '3', '4', '5more'},\n",
       " 'num_persons': {'2', '4', 'more'},\n",
       " 'lug_boot': {'big', 'med', 'small'},\n",
       " 'safety': {'high', 'low', 'med'},\n",
       " 'decision': {'acc', 'good', 'unacc', 'vgood'}}"
      ]
     },
     "execution_count": 6,
     "metadata": {},
     "output_type": "execute_result"
    }
   ],
   "source": [
    "y = {}\n",
    "for i in df:\n",
    "    y.update({i:set(df[i])})\n",
    "y"
   ]
  },
  {
   "cell_type": "code",
   "execution_count": 7,
   "metadata": {},
   "outputs": [
    {
     "data": {
      "text/html": [
       "<div>\n",
       "<style scoped>\n",
       "    .dataframe tbody tr th:only-of-type {\n",
       "        vertical-align: middle;\n",
       "    }\n",
       "\n",
       "    .dataframe tbody tr th {\n",
       "        vertical-align: top;\n",
       "    }\n",
       "\n",
       "    .dataframe thead th {\n",
       "        text-align: right;\n",
       "    }\n",
       "</style>\n",
       "<table border=\"1\" class=\"dataframe\">\n",
       "  <thead>\n",
       "    <tr style=\"text-align: right;\">\n",
       "      <th></th>\n",
       "      <th>buy_price</th>\n",
       "      <th>maint_cost</th>\n",
       "      <th>num_doors</th>\n",
       "      <th>num_persons</th>\n",
       "      <th>lug_boot</th>\n",
       "      <th>safety</th>\n",
       "      <th>decision</th>\n",
       "    </tr>\n",
       "  </thead>\n",
       "  <tbody>\n",
       "    <tr>\n",
       "      <th>0</th>\n",
       "      <td>low</td>\n",
       "      <td>low</td>\n",
       "      <td>2</td>\n",
       "      <td>2</td>\n",
       "      <td>small</td>\n",
       "      <td>low</td>\n",
       "      <td>good</td>\n",
       "    </tr>\n",
       "    <tr>\n",
       "      <th>1</th>\n",
       "      <td>vhigh</td>\n",
       "      <td>vhigh</td>\n",
       "      <td>5more</td>\n",
       "      <td>more</td>\n",
       "      <td>big</td>\n",
       "      <td>high</td>\n",
       "      <td>acc</td>\n",
       "    </tr>\n",
       "    <tr>\n",
       "      <th>2</th>\n",
       "      <td>high</td>\n",
       "      <td>high</td>\n",
       "      <td>4</td>\n",
       "      <td>4</td>\n",
       "      <td>med</td>\n",
       "      <td>med</td>\n",
       "      <td>unacc</td>\n",
       "    </tr>\n",
       "    <tr>\n",
       "      <th>3</th>\n",
       "      <td>med</td>\n",
       "      <td>med</td>\n",
       "      <td>3</td>\n",
       "      <td></td>\n",
       "      <td></td>\n",
       "      <td></td>\n",
       "      <td>vgood</td>\n",
       "    </tr>\n",
       "  </tbody>\n",
       "</table>\n",
       "</div>"
      ],
      "text/plain": [
       "  buy_price maint_cost num_doors num_persons lug_boot safety decision\n",
       "0       low        low         2           2    small    low     good\n",
       "1     vhigh      vhigh     5more        more      big   high      acc\n",
       "2      high       high         4           4      med    med    unacc\n",
       "3       med        med         3                                vgood"
      ]
     },
     "metadata": {},
     "output_type": "display_data"
    }
   ],
   "source": [
    "x = pd.DataFrame(data = y.values(), index = y.keys()).T.fillna(\"\")\n",
    "display(x)\n",
    "\n",
    "del x, y"
   ]
  },
  {
   "cell_type": "markdown",
   "metadata": {},
   "source": [
    "### 1D convert to numeric values\n",
    "- Copy the dataframe into a new dataframe\n",
    "- Change the values in each column into numeric values\n",
    "- All values are values on an ordinal scale. Because of this the values have to be in the right order. Example: \n",
    "\n",
    "    - 'low', 'med', 'high', 'vhigh' should be numbered from low to high. For example 'low' becomes number 1, 'med' becomes number 2, 'high' becomes number 3 etc. A similar way of numbering has to be applied to all columns."
   ]
  },
  {
   "cell_type": "code",
   "execution_count": 73,
   "metadata": {},
   "outputs": [],
   "source": [
    "cars = df.copy()"
   ]
  },
  {
   "cell_type": "code",
   "execution_count": 74,
   "metadata": {},
   "outputs": [
    {
     "data": {
      "text/html": [
       "<div>\n",
       "<style scoped>\n",
       "    .dataframe tbody tr th:only-of-type {\n",
       "        vertical-align: middle;\n",
       "    }\n",
       "\n",
       "    .dataframe tbody tr th {\n",
       "        vertical-align: top;\n",
       "    }\n",
       "\n",
       "    .dataframe thead th {\n",
       "        text-align: right;\n",
       "    }\n",
       "</style>\n",
       "<table border=\"1\" class=\"dataframe\">\n",
       "  <thead>\n",
       "    <tr style=\"text-align: right;\">\n",
       "      <th></th>\n",
       "      <th>buy_price</th>\n",
       "      <th>maint_cost</th>\n",
       "      <th>num_doors</th>\n",
       "      <th>num_persons</th>\n",
       "      <th>lug_boot</th>\n",
       "      <th>safety</th>\n",
       "      <th>decision</th>\n",
       "    </tr>\n",
       "  </thead>\n",
       "  <tbody>\n",
       "    <tr>\n",
       "      <th>0</th>\n",
       "      <td>vhigh</td>\n",
       "      <td>vhigh</td>\n",
       "      <td>2</td>\n",
       "      <td>2</td>\n",
       "      <td>small</td>\n",
       "      <td>low</td>\n",
       "      <td>unacc</td>\n",
       "    </tr>\n",
       "    <tr>\n",
       "      <th>1</th>\n",
       "      <td>vhigh</td>\n",
       "      <td>vhigh</td>\n",
       "      <td>2</td>\n",
       "      <td>2</td>\n",
       "      <td>small</td>\n",
       "      <td>med</td>\n",
       "      <td>unacc</td>\n",
       "    </tr>\n",
       "    <tr>\n",
       "      <th>2</th>\n",
       "      <td>vhigh</td>\n",
       "      <td>vhigh</td>\n",
       "      <td>2</td>\n",
       "      <td>2</td>\n",
       "      <td>small</td>\n",
       "      <td>high</td>\n",
       "      <td>unacc</td>\n",
       "    </tr>\n",
       "    <tr>\n",
       "      <th>3</th>\n",
       "      <td>vhigh</td>\n",
       "      <td>vhigh</td>\n",
       "      <td>2</td>\n",
       "      <td>2</td>\n",
       "      <td>med</td>\n",
       "      <td>low</td>\n",
       "      <td>unacc</td>\n",
       "    </tr>\n",
       "    <tr>\n",
       "      <th>4</th>\n",
       "      <td>vhigh</td>\n",
       "      <td>vhigh</td>\n",
       "      <td>2</td>\n",
       "      <td>2</td>\n",
       "      <td>med</td>\n",
       "      <td>med</td>\n",
       "      <td>unacc</td>\n",
       "    </tr>\n",
       "    <tr>\n",
       "      <th>...</th>\n",
       "      <td>...</td>\n",
       "      <td>...</td>\n",
       "      <td>...</td>\n",
       "      <td>...</td>\n",
       "      <td>...</td>\n",
       "      <td>...</td>\n",
       "      <td>...</td>\n",
       "    </tr>\n",
       "    <tr>\n",
       "      <th>1723</th>\n",
       "      <td>low</td>\n",
       "      <td>low</td>\n",
       "      <td>5more</td>\n",
       "      <td>more</td>\n",
       "      <td>med</td>\n",
       "      <td>med</td>\n",
       "      <td>good</td>\n",
       "    </tr>\n",
       "    <tr>\n",
       "      <th>1724</th>\n",
       "      <td>low</td>\n",
       "      <td>low</td>\n",
       "      <td>5more</td>\n",
       "      <td>more</td>\n",
       "      <td>med</td>\n",
       "      <td>high</td>\n",
       "      <td>vgood</td>\n",
       "    </tr>\n",
       "    <tr>\n",
       "      <th>1725</th>\n",
       "      <td>low</td>\n",
       "      <td>low</td>\n",
       "      <td>5more</td>\n",
       "      <td>more</td>\n",
       "      <td>big</td>\n",
       "      <td>low</td>\n",
       "      <td>unacc</td>\n",
       "    </tr>\n",
       "    <tr>\n",
       "      <th>1726</th>\n",
       "      <td>low</td>\n",
       "      <td>low</td>\n",
       "      <td>5more</td>\n",
       "      <td>more</td>\n",
       "      <td>big</td>\n",
       "      <td>med</td>\n",
       "      <td>good</td>\n",
       "    </tr>\n",
       "    <tr>\n",
       "      <th>1727</th>\n",
       "      <td>low</td>\n",
       "      <td>low</td>\n",
       "      <td>5more</td>\n",
       "      <td>more</td>\n",
       "      <td>big</td>\n",
       "      <td>high</td>\n",
       "      <td>vgood</td>\n",
       "    </tr>\n",
       "  </tbody>\n",
       "</table>\n",
       "<p>1728 rows × 7 columns</p>\n",
       "</div>"
      ],
      "text/plain": [
       "     buy_price maint_cost num_doors num_persons lug_boot safety decision\n",
       "0        vhigh      vhigh         2           2    small    low    unacc\n",
       "1        vhigh      vhigh         2           2    small    med    unacc\n",
       "2        vhigh      vhigh         2           2    small   high    unacc\n",
       "3        vhigh      vhigh         2           2      med    low    unacc\n",
       "4        vhigh      vhigh         2           2      med    med    unacc\n",
       "...        ...        ...       ...         ...      ...    ...      ...\n",
       "1723       low        low     5more        more      med    med     good\n",
       "1724       low        low     5more        more      med   high    vgood\n",
       "1725       low        low     5more        more      big    low    unacc\n",
       "1726       low        low     5more        more      big    med     good\n",
       "1727       low        low     5more        more      big   high    vgood\n",
       "\n",
       "[1728 rows x 7 columns]"
      ]
     },
     "execution_count": 74,
     "metadata": {},
     "output_type": "execute_result"
    }
   ],
   "source": [
    "cars"
   ]
  },
  {
   "cell_type": "code",
   "execution_count": 75,
   "metadata": {},
   "outputs": [],
   "source": [
    "cars.buy_price.replace(('low', 'med', 'high', 'vhigh'),(1,2,3,4), inplace=True)\n",
    "cars.maint_cost.replace(('low', 'med', 'high', 'vhigh'),(1,2,3,4), inplace=True)\n",
    "cars.num_doors.replace(('2','3','4','5more'),(1,2,3,4), inplace=True)\n",
    "cars.num_persons.replace(('2','4','more'),(1,2,3), inplace=True)\n",
    "cars.lug_boot.replace(('small','med','big'),(1,2,3), inplace=True)\n",
    "cars.safety.replace(('low','med','high'),(1,2,3), inplace=True)\n",
    "cars.decision.replace(('unacc','acc','good','vgood'),(1,2,3,4), inplace=True)"
   ]
  },
  {
   "cell_type": "code",
   "execution_count": 12,
   "metadata": {},
   "outputs": [
    {
     "data": {
      "text/plain": [
       "array([[<AxesSubplot:title={'center':'buy_price'}>,\n",
       "        <AxesSubplot:title={'center':'maint_cost'}>,\n",
       "        <AxesSubplot:title={'center':'num_doors'}>],\n",
       "       [<AxesSubplot:title={'center':'num_persons'}>,\n",
       "        <AxesSubplot:title={'center':'lug_boot'}>,\n",
       "        <AxesSubplot:title={'center':'safety'}>],\n",
       "       [<AxesSubplot:title={'center':'decision'}>, <AxesSubplot:>,\n",
       "        <AxesSubplot:>]], dtype=object)"
      ]
     },
     "execution_count": 12,
     "metadata": {},
     "output_type": "execute_result"
    },
    {
     "data": {
      "image/png": "[encoded data removed]",
      "text/plain": [
       "<Figure size 640x480 with 9 Axes>"
      ]
     },
     "metadata": {},
     "output_type": "display_data"
    }
   ],
   "source": [
    "cars.hist()"
   ]
  },
  {
   "cell_type": "markdown",
   "metadata": {},
   "source": [
    "### 1E Check the dataframe\n",
    "- Check if there are any missing values or outliers.\n",
    "- Make a visualation that shows how the values in each column are distributed.\n",
    "- What do you notice about these distributions?\n",
    "- Do you think this is a real dataset or a synthetic dataset? Why?"
   ]
  },
  {
   "cell_type": "code",
   "execution_count": 13,
   "metadata": {
    "scrolled": true
   },
   "outputs": [
    {
     "data": {
      "text/html": [
       "<div>\n",
       "<style scoped>\n",
       "    .dataframe tbody tr th:only-of-type {\n",
       "        vertical-align: middle;\n",
       "    }\n",
       "\n",
       "    .dataframe tbody tr th {\n",
       "        vertical-align: top;\n",
       "    }\n",
       "\n",
       "    .dataframe thead th {\n",
       "        text-align: right;\n",
       "    }\n",
       "</style>\n",
       "<table border=\"1\" class=\"dataframe\">\n",
       "  <thead>\n",
       "    <tr style=\"text-align: right;\">\n",
       "      <th></th>\n",
       "      <th>buy_price</th>\n",
       "      <th>maint_cost</th>\n",
       "      <th>num_doors</th>\n",
       "      <th>num_persons</th>\n",
       "      <th>lug_boot</th>\n",
       "      <th>safety</th>\n",
       "      <th>decision</th>\n",
       "    </tr>\n",
       "  </thead>\n",
       "  <tbody>\n",
       "    <tr>\n",
       "      <th>count</th>\n",
       "      <td>1728.000000</td>\n",
       "      <td>1728.000000</td>\n",
       "      <td>1728.000000</td>\n",
       "      <td>1728.000000</td>\n",
       "      <td>1728.000000</td>\n",
       "      <td>1728.000000</td>\n",
       "      <td>1728.000000</td>\n",
       "    </tr>\n",
       "    <tr>\n",
       "      <th>mean</th>\n",
       "      <td>1.500000</td>\n",
       "      <td>1.500000</td>\n",
       "      <td>1.500000</td>\n",
       "      <td>1.000000</td>\n",
       "      <td>1.000000</td>\n",
       "      <td>1.000000</td>\n",
       "      <td>0.414931</td>\n",
       "    </tr>\n",
       "    <tr>\n",
       "      <th>std</th>\n",
       "      <td>1.118358</td>\n",
       "      <td>1.118358</td>\n",
       "      <td>1.118358</td>\n",
       "      <td>0.816733</td>\n",
       "      <td>0.816733</td>\n",
       "      <td>0.816733</td>\n",
       "      <td>0.740700</td>\n",
       "    </tr>\n",
       "    <tr>\n",
       "      <th>min</th>\n",
       "      <td>0.000000</td>\n",
       "      <td>0.000000</td>\n",
       "      <td>0.000000</td>\n",
       "      <td>0.000000</td>\n",
       "      <td>0.000000</td>\n",
       "      <td>0.000000</td>\n",
       "      <td>0.000000</td>\n",
       "    </tr>\n",
       "    <tr>\n",
       "      <th>25%</th>\n",
       "      <td>0.750000</td>\n",
       "      <td>0.750000</td>\n",
       "      <td>0.750000</td>\n",
       "      <td>0.000000</td>\n",
       "      <td>0.000000</td>\n",
       "      <td>0.000000</td>\n",
       "      <td>0.000000</td>\n",
       "    </tr>\n",
       "    <tr>\n",
       "      <th>50%</th>\n",
       "      <td>1.500000</td>\n",
       "      <td>1.500000</td>\n",
       "      <td>1.500000</td>\n",
       "      <td>1.000000</td>\n",
       "      <td>1.000000</td>\n",
       "      <td>1.000000</td>\n",
       "      <td>0.000000</td>\n",
       "    </tr>\n",
       "    <tr>\n",
       "      <th>75%</th>\n",
       "      <td>2.250000</td>\n",
       "      <td>2.250000</td>\n",
       "      <td>2.250000</td>\n",
       "      <td>2.000000</td>\n",
       "      <td>2.000000</td>\n",
       "      <td>2.000000</td>\n",
       "      <td>1.000000</td>\n",
       "    </tr>\n",
       "    <tr>\n",
       "      <th>max</th>\n",
       "      <td>3.000000</td>\n",
       "      <td>3.000000</td>\n",
       "      <td>3.000000</td>\n",
       "      <td>2.000000</td>\n",
       "      <td>2.000000</td>\n",
       "      <td>2.000000</td>\n",
       "      <td>3.000000</td>\n",
       "    </tr>\n",
       "  </tbody>\n",
       "</table>\n",
       "</div>"
      ],
      "text/plain": [
       "         buy_price   maint_cost    num_doors  num_persons     lug_boot  \\\n",
       "count  1728.000000  1728.000000  1728.000000  1728.000000  1728.000000   \n",
       "mean      1.500000     1.500000     1.500000     1.000000     1.000000   \n",
       "std       1.118358     1.118358     1.118358     0.816733     0.816733   \n",
       "min       0.000000     0.000000     0.000000     0.000000     0.000000   \n",
       "25%       0.750000     0.750000     0.750000     0.000000     0.000000   \n",
       "50%       1.500000     1.500000     1.500000     1.000000     1.000000   \n",
       "75%       2.250000     2.250000     2.250000     2.000000     2.000000   \n",
       "max       3.000000     3.000000     3.000000     2.000000     2.000000   \n",
       "\n",
       "            safety     decision  \n",
       "count  1728.000000  1728.000000  \n",
       "mean      1.000000     0.414931  \n",
       "std       0.816733     0.740700  \n",
       "min       0.000000     0.000000  \n",
       "25%       0.000000     0.000000  \n",
       "50%       1.000000     0.000000  \n",
       "75%       2.000000     1.000000  \n",
       "max       2.000000     3.000000  "
      ]
     },
     "metadata": {},
     "output_type": "display_data"
    }
   ],
   "source": [
    "display(cars.describe())"
   ]
  },
  {
   "cell_type": "code",
   "execution_count": 14,
   "metadata": {},
   "outputs": [
    {
     "data": {
      "text/plain": [
       "buy_price      0\n",
       "maint_cost     0\n",
       "num_doors      0\n",
       "num_persons    0\n",
       "lug_boot       0\n",
       "safety         0\n",
       "decision       0\n",
       "dtype: int64"
      ]
     },
     "metadata": {},
     "output_type": "display_data"
    }
   ],
   "source": [
    "display(cars.isna().sum())"
   ]
  },
  {
   "cell_type": "code",
   "execution_count": 15,
   "metadata": {},
   "outputs": [
    {
     "data": {
      "text/plain": [
       "(array([0, 1, 2, 3, 4, 5, 6]),\n",
       " [Text(0, 0, 'buy_price'),\n",
       "  Text(1, 0, 'maint_cost'),\n",
       "  Text(2, 0, 'num_doors'),\n",
       "  Text(3, 0, 'num_persons'),\n",
       "  Text(4, 0, 'lug_boot'),\n",
       "  Text(5, 0, 'safety'),\n",
       "  Text(6, 0, 'decision')])"
      ]
     },
     "execution_count": 15,
     "metadata": {},
     "output_type": "execute_result"
    },
    {
     "data": {
      "image/png": "[encoded data removed]",
      "text/plain": [
       "<Figure size 640x480 with 1 Axes>"
      ]
     },
     "metadata": {},
     "output_type": "display_data"
    }
   ],
   "source": [
    "sns.boxplot(data=cars)\n",
    "plt.xticks(rotation= 35)"
   ]
  },
  {
   "cell_type": "code",
   "execution_count": 16,
   "metadata": {},
   "outputs": [
    {
     "name": "stdout",
     "output_type": "stream",
     "text": [
      "They all have a normal distribution shape.\n"
     ]
    }
   ],
   "source": [
    "#What do you notice about these distributions?\n",
    "print(\"They all have a normal distribution shape.\")"
   ]
  },
  {
   "cell_type": "code",
   "execution_count": 17,
   "metadata": {},
   "outputs": [
    {
     "name": "stdout",
     "output_type": "stream",
     "text": [
      "Synthetic. It is too evenly distributed.\n"
     ]
    }
   ],
   "source": [
    "#Do you think this is a real dataset or a synthetic dataset? Why?\n",
    "print(\"Synthetic. It is too evenly distributed.\")"
   ]
  },
  {
   "cell_type": "markdown",
   "metadata": {},
   "source": [
    "## 2 Apply k-nearest neighbors"
   ]
  },
  {
   "cell_type": "markdown",
   "metadata": {},
   "source": [
    "### 2A Train and test set\n",
    "- Your goal is to predict the decision column\n",
    "- Split the data into a train set and a test set\n",
    "- Explain your choice for the test set size"
   ]
  },
  {
   "cell_type": "code",
   "execution_count": 76,
   "metadata": {},
   "outputs": [
    {
     "name": "stdout",
     "output_type": "stream",
     "text": [
      "Time elapsed: 0.078 seconds\n"
     ]
    }
   ],
   "source": [
    "import time\n",
    "from warnings import simplefilter\n",
    "simplefilter(action='ignore', category=FutureWarning)\n",
    "\n",
    "from sklearn.neighbors import KNeighborsClassifier\n",
    "from sklearn.model_selection import train_test_split\n",
    "from sklearn.metrics import mean_squared_error, accuracy_score\n",
    "\n",
    "X = cars.drop(\"decision\", axis = 1)\n",
    "y = cars[\"decision\"]\n",
    "\n",
    "X_train, X_test, y_train, y_test = train_test_split(X, y, test_size = 0.2, random_state = 42)\n",
    "\n",
    "errors = {}\n",
    "acc = {}\n",
    "\n",
    "st = time.time()\n",
    "\n",
    "for i in range(1, 11):\n",
    "    model = knn = KNeighborsClassifier(n_neighbors = i)\n",
    "    model.fit(X_train, y_train)\n",
    "\n",
    "    predictions = model.predict(X_test)\n",
    "    error = (mean_squared_error(y_test, predictions)) ** 0.5\n",
    "\n",
    "    errors.update({i:error})\n",
    "    acc.update({i:accuracy_score(y_test, predictions)})\n",
    "\n",
    "et = time.time()\n",
    "print(f\"Time elapsed: {round(et -st, 4)} seconds\")"
   ]
  },
  {
   "cell_type": "code",
   "execution_count": 77,
   "metadata": {},
   "outputs": [
    {
     "data": {
      "image/png": "[encoded data removed]",
      "text/plain": [
       "<Figure size 1100x400 with 2 Axes>"
      ]
     },
     "metadata": {},
     "output_type": "display_data"
    },
    {
     "name": "stdout",
     "output_type": "stream",
     "text": [
      "Time elapsed: 0.113 seconds\n"
     ]
    }
   ],
   "source": [
    "import matplotlib.pyplot as plt\n",
    "import seaborn as sns\n",
    "st = time.time()\n",
    "plt.figure(figsize = (11,4))\n",
    "\n",
    "plt.subplot(1, 2, 1)\n",
    "plt.plot(errors.keys(), errors.values())\n",
    "plt.xticks(range(1,11))\n",
    "plt.ylabel(\"RMSE\")\n",
    "plt.xlabel(\"Number of k\")\n",
    "plt.title(\"RMSE of prediction of decision\")\n",
    "\n",
    "plt.subplot(1, 2, 2)\n",
    "plt.plot(acc.keys(), acc.values())\n",
    "plt.xticks(range(1,11))\n",
    "plt.ylabel(\"Accuracy\")\n",
    "plt.xlabel(\"Number of k\")\n",
    "plt.title(\"Accuracy in % of prediction of decision\")\n",
    "\n",
    "plt.show()\n",
    "et = time.time()\n",
    "print(f\"Time elapsed: {round(et -st, 4)} seconds\")"
   ]
  },
  {
   "cell_type": "code",
   "execution_count": 78,
   "metadata": {},
   "outputs": [
    {
     "data": {
      "text/plain": [
       "{'n_neighbors': 7}"
      ]
     },
     "metadata": {},
     "output_type": "display_data"
    },
    {
     "name": "stdout",
     "output_type": "stream",
     "text": [
      "Time elapsed: 0.3401 seconds\n"
     ]
    }
   ],
   "source": [
    "from sklearn.model_selection import GridSearchCV\n",
    "\n",
    "st = time.time()\n",
    "\n",
    "cv = GridSearchCV(knn, param_grid = {\"n_neighbors\": list(range(1,11))}, cv = 5)\n",
    "cv.fit(X_train, y_train)\n",
    "\n",
    "display((cv.best_params_))\n",
    "\n",
    "et = time.time()\n",
    "print(f\"Time elapsed: {round(et -st, 4)} seconds\")"
   ]
  },
  {
   "cell_type": "code",
   "execution_count": 79,
   "metadata": {},
   "outputs": [],
   "source": [
    "model = KNeighborsClassifier(n_neighbors = 7)\n",
    "model.fit(X_train, y_train)\n",
    "predictions = model.predict(X_test)"
   ]
  },
  {
   "cell_type": "code",
   "execution_count": 89,
   "metadata": {},
   "outputs": [
    {
     "data": {
      "text/plain": [
       "<sklearn.metrics._plot.confusion_matrix.ConfusionMatrixDisplay at 0x227bc7e6610>"
      ]
     },
     "execution_count": 89,
     "metadata": {},
     "output_type": "execute_result"
    },
    {
     "data": {
      "image/png": "[encoded data removed]",
      "text/plain": [
       "<Figure size 640x480 with 2 Axes>"
      ]
     },
     "metadata": {},
     "output_type": "display_data"
    }
   ],
   "source": [
    "from sklearn.metrics import confusion_matrix, ConfusionMatrixDisplay\n",
    "\n",
    "cm = confusion_matrix(y_test, predictions)\n",
    "ConfusionMatrixDisplay(cm, display_labels = [\"Unacc\", \"acc\", \"good\", \"vgood\"]).plot()"
   ]
  },
  {
   "cell_type": "code",
   "execution_count": 90,
   "metadata": {},
   "outputs": [
    {
     "data": {
      "text/plain": [
       "1    235\n",
       "2     83\n",
       "4     17\n",
       "3     11\n",
       "Name: decision, dtype: int64"
      ]
     },
     "execution_count": 90,
     "metadata": {},
     "output_type": "execute_result"
    }
   ],
   "source": [
    "pd.Series(y_test).value_counts()"
   ]
  },
  {
   "cell_type": "code",
   "execution_count": 56,
   "metadata": {},
   "outputs": [
    {
     "name": "stdout",
     "output_type": "stream",
     "text": [
      "              precision    recall  f1-score   support\n",
      "\n",
      "        good       0.95      1.00      0.97       235\n",
      "         acc       0.96      0.84      0.90        83\n",
      "       unacc       0.75      0.82      0.78        11\n",
      "       vgood       0.92      0.71      0.80        17\n",
      "\n",
      "    accuracy                           0.94       346\n",
      "   macro avg       0.89      0.84      0.86       346\n",
      "weighted avg       0.94      0.94      0.94       346\n",
      "\n"
     ]
    }
   ],
   "source": [
    "from sklearn.metrics import classification_report\n",
    "\n",
    "print(classification_report(y_test, predictions, target_names = set(df.decision)))"
   ]
  },
  {
   "cell_type": "code",
   "execution_count": null,
   "metadata": {},
   "outputs": [],
   "source": []
  },
  {
   "cell_type": "code",
   "execution_count": null,
   "metadata": {},
   "outputs": [],
   "source": []
  },
  {
   "cell_type": "code",
   "execution_count": 24,
   "metadata": {},
   "outputs": [],
   "source": [
    "from sklearn.neighbors import KNeighborsClassifier\n",
    "from sklearn.model_selection import train_test_split\n",
    "from sklearn.metrics import accuracy_score\n",
    "\n",
    "\n",
    "X = cars.drop(\"decision\", axis = 1)\n",
    "y = cars[\"decision\"]\n",
    "\n",
    "X_train, X_test, y_train, y_test = train_test_split(X, y, test_size = 0.2, random_state = 42)\n",
    "\n",
    "acc_scores = {}\n",
    "\n",
    "for i in range(1, 11):\n",
    "    knn = KNeighborsClassifier(n_neighbors = i)\n",
    "    knn.fit(X_train, y_train)\n",
    "    predictions = knn.predict(X_test)\n",
    "    acc_scores.update({i: accuracy_score(y_test, predictions)})"
   ]
  },
  {
   "cell_type": "code",
   "execution_count": 25,
   "metadata": {},
   "outputs": [
    {
     "data": {
      "text/plain": [
       "0.9421965317919075"
      ]
     },
     "metadata": {},
     "output_type": "display_data"
    }
   ],
   "source": [
    "display(max(acc_scores.values()))"
   ]
  },
  {
   "cell_type": "code",
   "execution_count": null,
   "metadata": {},
   "outputs": [],
   "source": []
  },
  {
   "cell_type": "code",
   "execution_count": 26,
   "metadata": {},
   "outputs": [
    {
     "name": "stdout",
     "output_type": "stream",
     "text": [
      "(1728, 6)\n",
      "(1728,)\n"
     ]
    }
   ],
   "source": [
    "# from sklearn.module import Model\n",
    "from sklearn.neighbors import KNeighborsClassifier\n",
    "from sklearn.model_selection import train_test_split\n",
    "\n",
    "X= cars.drop(columns= \"decision\").values\n",
    "y= cars[\"decision\"].values\n",
    "\n",
    "print(X.shape)\n",
    "print(y.shape)\n",
    "\n",
    "#Test size is set to 0.2 because I think 80% of the model is sufficient to make an accurate prediction of the remaining 20%.\n",
    "X_train, X_test, y_train, y_test = train_test_split(X, y, test_size= 0.2, random_state= 42)\n"
   ]
  },
  {
   "cell_type": "code",
   "execution_count": 27,
   "metadata": {},
   "outputs": [
    {
     "name": "stdout",
     "output_type": "stream",
     "text": [
      "{'n_neighbors': 7}\n"
     ]
    }
   ],
   "source": [
    "from sklearn.model_selection import GridSearchCV\n",
    "\n",
    "param_grid = {\"n_neighbors\": range(1, 11)}\n",
    "\n",
    "cv = GridSearchCV(KNeighborsClassifier(), param_grid, cv = 5, return_train_score = True)\n",
    "cv.fit(X_train, y_train)\n",
    "print(cv.best_params_)"
   ]
  },
  {
   "cell_type": "code",
   "execution_count": 28,
   "metadata": {},
   "outputs": [
    {
     "data": {
      "text/html": [
       "<div>\n",
       "<style scoped>\n",
       "    .dataframe tbody tr th:only-of-type {\n",
       "        vertical-align: middle;\n",
       "    }\n",
       "\n",
       "    .dataframe tbody tr th {\n",
       "        vertical-align: top;\n",
       "    }\n",
       "\n",
       "    .dataframe thead th {\n",
       "        text-align: right;\n",
       "    }\n",
       "</style>\n",
       "<table border=\"1\" class=\"dataframe\">\n",
       "  <thead>\n",
       "    <tr style=\"text-align: right;\">\n",
       "      <th></th>\n",
       "      <th>mean_fit_time</th>\n",
       "      <th>std_fit_time</th>\n",
       "      <th>mean_score_time</th>\n",
       "      <th>std_score_time</th>\n",
       "      <th>param_n_neighbors</th>\n",
       "      <th>params</th>\n",
       "      <th>split0_test_score</th>\n",
       "      <th>split1_test_score</th>\n",
       "      <th>split2_test_score</th>\n",
       "      <th>split3_test_score</th>\n",
       "      <th>...</th>\n",
       "      <th>mean_test_score</th>\n",
       "      <th>std_test_score</th>\n",
       "      <th>rank_test_score</th>\n",
       "      <th>split0_train_score</th>\n",
       "      <th>split1_train_score</th>\n",
       "      <th>split2_train_score</th>\n",
       "      <th>split3_train_score</th>\n",
       "      <th>split4_train_score</th>\n",
       "      <th>mean_train_score</th>\n",
       "      <th>std_train_score</th>\n",
       "    </tr>\n",
       "  </thead>\n",
       "  <tbody>\n",
       "    <tr>\n",
       "      <th>0</th>\n",
       "      <td>0.0012</td>\n",
       "      <td>4.002571e-04</td>\n",
       "      <td>0.004201</td>\n",
       "      <td>4.002333e-04</td>\n",
       "      <td>1</td>\n",
       "      <td>{'n_neighbors': 1}</td>\n",
       "      <td>0.844765</td>\n",
       "      <td>0.841155</td>\n",
       "      <td>0.811594</td>\n",
       "      <td>0.862319</td>\n",
       "      <td>...</td>\n",
       "      <td>0.843706</td>\n",
       "      <td>0.017944</td>\n",
       "      <td>9</td>\n",
       "      <td>1.000000</td>\n",
       "      <td>1.000000</td>\n",
       "      <td>1.000000</td>\n",
       "      <td>1.000000</td>\n",
       "      <td>1.000000</td>\n",
       "      <td>1.000000</td>\n",
       "      <td>0.000000</td>\n",
       "    </tr>\n",
       "    <tr>\n",
       "      <th>1</th>\n",
       "      <td>0.0010</td>\n",
       "      <td>1.907349e-07</td>\n",
       "      <td>0.004801</td>\n",
       "      <td>4.002095e-04</td>\n",
       "      <td>2</td>\n",
       "      <td>{'n_neighbors': 2}</td>\n",
       "      <td>0.855596</td>\n",
       "      <td>0.819495</td>\n",
       "      <td>0.818841</td>\n",
       "      <td>0.833333</td>\n",
       "      <td>...</td>\n",
       "      <td>0.829946</td>\n",
       "      <td>0.013841</td>\n",
       "      <td>10</td>\n",
       "      <td>0.906787</td>\n",
       "      <td>0.904072</td>\n",
       "      <td>0.882459</td>\n",
       "      <td>0.914105</td>\n",
       "      <td>0.881555</td>\n",
       "      <td>0.897796</td>\n",
       "      <td>0.013306</td>\n",
       "    </tr>\n",
       "    <tr>\n",
       "      <th>2</th>\n",
       "      <td>0.0010</td>\n",
       "      <td>2.431402e-07</td>\n",
       "      <td>0.004201</td>\n",
       "      <td>4.002571e-04</td>\n",
       "      <td>3</td>\n",
       "      <td>{'n_neighbors': 3}</td>\n",
       "      <td>0.924188</td>\n",
       "      <td>0.884477</td>\n",
       "      <td>0.873188</td>\n",
       "      <td>0.887681</td>\n",
       "      <td>...</td>\n",
       "      <td>0.893617</td>\n",
       "      <td>0.017292</td>\n",
       "      <td>8</td>\n",
       "      <td>0.961991</td>\n",
       "      <td>0.952941</td>\n",
       "      <td>0.943942</td>\n",
       "      <td>0.952080</td>\n",
       "      <td>0.946655</td>\n",
       "      <td>0.951522</td>\n",
       "      <td>0.006214</td>\n",
       "    </tr>\n",
       "    <tr>\n",
       "      <th>3</th>\n",
       "      <td>0.0010</td>\n",
       "      <td>2.336015e-07</td>\n",
       "      <td>0.004601</td>\n",
       "      <td>4.897457e-04</td>\n",
       "      <td>4</td>\n",
       "      <td>{'n_neighbors': 4}</td>\n",
       "      <td>0.938628</td>\n",
       "      <td>0.895307</td>\n",
       "      <td>0.894928</td>\n",
       "      <td>0.902174</td>\n",
       "      <td>...</td>\n",
       "      <td>0.906642</td>\n",
       "      <td>0.016302</td>\n",
       "      <td>7</td>\n",
       "      <td>0.940271</td>\n",
       "      <td>0.941176</td>\n",
       "      <td>0.944846</td>\n",
       "      <td>0.941230</td>\n",
       "      <td>0.937613</td>\n",
       "      <td>0.941027</td>\n",
       "      <td>0.002318</td>\n",
       "    </tr>\n",
       "    <tr>\n",
       "      <th>4</th>\n",
       "      <td>0.0010</td>\n",
       "      <td>4.101908e-07</td>\n",
       "      <td>0.004801</td>\n",
       "      <td>4.002095e-04</td>\n",
       "      <td>5</td>\n",
       "      <td>{'n_neighbors': 5}</td>\n",
       "      <td>0.945848</td>\n",
       "      <td>0.927798</td>\n",
       "      <td>0.920290</td>\n",
       "      <td>0.942029</td>\n",
       "      <td>...</td>\n",
       "      <td>0.932700</td>\n",
       "      <td>0.009640</td>\n",
       "      <td>2</td>\n",
       "      <td>0.973756</td>\n",
       "      <td>0.961086</td>\n",
       "      <td>0.965642</td>\n",
       "      <td>0.963834</td>\n",
       "      <td>0.966546</td>\n",
       "      <td>0.966173</td>\n",
       "      <td>0.004225</td>\n",
       "    </tr>\n",
       "    <tr>\n",
       "      <th>5</th>\n",
       "      <td>0.0010</td>\n",
       "      <td>7.539457e-07</td>\n",
       "      <td>0.005001</td>\n",
       "      <td>1.507891e-07</td>\n",
       "      <td>6</td>\n",
       "      <td>{'n_neighbors': 6}</td>\n",
       "      <td>0.956679</td>\n",
       "      <td>0.924188</td>\n",
       "      <td>0.909420</td>\n",
       "      <td>0.945652</td>\n",
       "      <td>...</td>\n",
       "      <td>0.929796</td>\n",
       "      <td>0.018447</td>\n",
       "      <td>3</td>\n",
       "      <td>0.962896</td>\n",
       "      <td>0.952036</td>\n",
       "      <td>0.962025</td>\n",
       "      <td>0.957505</td>\n",
       "      <td>0.965642</td>\n",
       "      <td>0.960021</td>\n",
       "      <td>0.004774</td>\n",
       "    </tr>\n",
       "    <tr>\n",
       "      <th>6</th>\n",
       "      <td>0.0010</td>\n",
       "      <td>2.780415e-07</td>\n",
       "      <td>0.005001</td>\n",
       "      <td>2.780415e-07</td>\n",
       "      <td>7</td>\n",
       "      <td>{'n_neighbors': 7}</td>\n",
       "      <td>0.949458</td>\n",
       "      <td>0.935018</td>\n",
       "      <td>0.923913</td>\n",
       "      <td>0.942029</td>\n",
       "      <td>...</td>\n",
       "      <td>0.934142</td>\n",
       "      <td>0.010900</td>\n",
       "      <td>1</td>\n",
       "      <td>0.970136</td>\n",
       "      <td>0.967421</td>\n",
       "      <td>0.967450</td>\n",
       "      <td>0.968354</td>\n",
       "      <td>0.971971</td>\n",
       "      <td>0.969066</td>\n",
       "      <td>0.001755</td>\n",
       "    </tr>\n",
       "    <tr>\n",
       "      <th>7</th>\n",
       "      <td>0.0008</td>\n",
       "      <td>4.000425e-04</td>\n",
       "      <td>0.004801</td>\n",
       "      <td>3.999472e-04</td>\n",
       "      <td>8</td>\n",
       "      <td>{'n_neighbors': 8}</td>\n",
       "      <td>0.945848</td>\n",
       "      <td>0.902527</td>\n",
       "      <td>0.887681</td>\n",
       "      <td>0.927536</td>\n",
       "      <td>...</td>\n",
       "      <td>0.915327</td>\n",
       "      <td>0.020070</td>\n",
       "      <td>5</td>\n",
       "      <td>0.956561</td>\n",
       "      <td>0.951131</td>\n",
       "      <td>0.944846</td>\n",
       "      <td>0.956600</td>\n",
       "      <td>0.962025</td>\n",
       "      <td>0.954233</td>\n",
       "      <td>0.005822</td>\n",
       "    </tr>\n",
       "    <tr>\n",
       "      <th>8</th>\n",
       "      <td>0.0010</td>\n",
       "      <td>1.168008e-07</td>\n",
       "      <td>0.005001</td>\n",
       "      <td>1.907349e-07</td>\n",
       "      <td>9</td>\n",
       "      <td>{'n_neighbors': 9}</td>\n",
       "      <td>0.924188</td>\n",
       "      <td>0.924188</td>\n",
       "      <td>0.884058</td>\n",
       "      <td>0.934783</td>\n",
       "      <td>...</td>\n",
       "      <td>0.918226</td>\n",
       "      <td>0.017578</td>\n",
       "      <td>4</td>\n",
       "      <td>0.949321</td>\n",
       "      <td>0.950226</td>\n",
       "      <td>0.950271</td>\n",
       "      <td>0.959313</td>\n",
       "      <td>0.958409</td>\n",
       "      <td>0.953508</td>\n",
       "      <td>0.004393</td>\n",
       "    </tr>\n",
       "    <tr>\n",
       "      <th>9</th>\n",
       "      <td>0.0010</td>\n",
       "      <td>2.611745e-07</td>\n",
       "      <td>0.005001</td>\n",
       "      <td>4.264961e-07</td>\n",
       "      <td>10</td>\n",
       "      <td>{'n_neighbors': 10}</td>\n",
       "      <td>0.927798</td>\n",
       "      <td>0.916968</td>\n",
       "      <td>0.902174</td>\n",
       "      <td>0.913043</td>\n",
       "      <td>...</td>\n",
       "      <td>0.911707</td>\n",
       "      <td>0.010510</td>\n",
       "      <td>6</td>\n",
       "      <td>0.936652</td>\n",
       "      <td>0.933937</td>\n",
       "      <td>0.938517</td>\n",
       "      <td>0.940325</td>\n",
       "      <td>0.941230</td>\n",
       "      <td>0.938132</td>\n",
       "      <td>0.002621</td>\n",
       "    </tr>\n",
       "  </tbody>\n",
       "</table>\n",
       "<p>10 rows × 21 columns</p>\n",
       "</div>"
      ],
      "text/plain": [
       "   mean_fit_time  std_fit_time  mean_score_time  std_score_time  \\\n",
       "0         0.0012  4.002571e-04         0.004201    4.002333e-04   \n",
       "1         0.0010  1.907349e-07         0.004801    4.002095e-04   \n",
       "2         0.0010  2.431402e-07         0.004201    4.002571e-04   \n",
       "3         0.0010  2.336015e-07         0.004601    4.897457e-04   \n",
       "4         0.0010  4.101908e-07         0.004801    4.002095e-04   \n",
       "5         0.0010  7.539457e-07         0.005001    1.507891e-07   \n",
       "6         0.0010  2.780415e-07         0.005001    2.780415e-07   \n",
       "7         0.0008  4.000425e-04         0.004801    3.999472e-04   \n",
       "8         0.0010  1.168008e-07         0.005001    1.907349e-07   \n",
       "9         0.0010  2.611745e-07         0.005001    4.264961e-07   \n",
       "\n",
       "  param_n_neighbors               params  split0_test_score  \\\n",
       "0                 1   {'n_neighbors': 1}           0.844765   \n",
       "1                 2   {'n_neighbors': 2}           0.855596   \n",
       "2                 3   {'n_neighbors': 3}           0.924188   \n",
       "3                 4   {'n_neighbors': 4}           0.938628   \n",
       "4                 5   {'n_neighbors': 5}           0.945848   \n",
       "5                 6   {'n_neighbors': 6}           0.956679   \n",
       "6                 7   {'n_neighbors': 7}           0.949458   \n",
       "7                 8   {'n_neighbors': 8}           0.945848   \n",
       "8                 9   {'n_neighbors': 9}           0.924188   \n",
       "9                10  {'n_neighbors': 10}           0.927798   \n",
       "\n",
       "   split1_test_score  split2_test_score  split3_test_score  ...  \\\n",
       "0           0.841155           0.811594           0.862319  ...   \n",
       "1           0.819495           0.818841           0.833333  ...   \n",
       "2           0.884477           0.873188           0.887681  ...   \n",
       "3           0.895307           0.894928           0.902174  ...   \n",
       "4           0.927798           0.920290           0.942029  ...   \n",
       "5           0.924188           0.909420           0.945652  ...   \n",
       "6           0.935018           0.923913           0.942029  ...   \n",
       "7           0.902527           0.887681           0.927536  ...   \n",
       "8           0.924188           0.884058           0.934783  ...   \n",
       "9           0.916968           0.902174           0.913043  ...   \n",
       "\n",
       "   mean_test_score  std_test_score  rank_test_score  split0_train_score  \\\n",
       "0         0.843706        0.017944                9            1.000000   \n",
       "1         0.829946        0.013841               10            0.906787   \n",
       "2         0.893617        0.017292                8            0.961991   \n",
       "3         0.906642        0.016302                7            0.940271   \n",
       "4         0.932700        0.009640                2            0.973756   \n",
       "5         0.929796        0.018447                3            0.962896   \n",
       "6         0.934142        0.010900                1            0.970136   \n",
       "7         0.915327        0.020070                5            0.956561   \n",
       "8         0.918226        0.017578                4            0.949321   \n",
       "9         0.911707        0.010510                6            0.936652   \n",
       "\n",
       "   split1_train_score  split2_train_score  split3_train_score  \\\n",
       "0            1.000000            1.000000            1.000000   \n",
       "1            0.904072            0.882459            0.914105   \n",
       "2            0.952941            0.943942            0.952080   \n",
       "3            0.941176            0.944846            0.941230   \n",
       "4            0.961086            0.965642            0.963834   \n",
       "5            0.952036            0.962025            0.957505   \n",
       "6            0.967421            0.967450            0.968354   \n",
       "7            0.951131            0.944846            0.956600   \n",
       "8            0.950226            0.950271            0.959313   \n",
       "9            0.933937            0.938517            0.940325   \n",
       "\n",
       "   split4_train_score  mean_train_score  std_train_score  \n",
       "0            1.000000          1.000000         0.000000  \n",
       "1            0.881555          0.897796         0.013306  \n",
       "2            0.946655          0.951522         0.006214  \n",
       "3            0.937613          0.941027         0.002318  \n",
       "4            0.966546          0.966173         0.004225  \n",
       "5            0.965642          0.960021         0.004774  \n",
       "6            0.971971          0.969066         0.001755  \n",
       "7            0.962025          0.954233         0.005822  \n",
       "8            0.958409          0.953508         0.004393  \n",
       "9            0.941230          0.938132         0.002621  \n",
       "\n",
       "[10 rows x 21 columns]"
      ]
     },
     "execution_count": 28,
     "metadata": {},
     "output_type": "execute_result"
    }
   ],
   "source": [
    "pd.DataFrame(cv.cv_results_)"
   ]
  },
  {
   "cell_type": "markdown",
   "metadata": {},
   "source": [
    "### 2B Fit and predict\n",
    "- Apply the k-nearest neighbor classifier of scikit learn to fit your model.\n",
    "- Predict the decisions of your test set and determine the accuracy of the model\n",
    "- Change the number of neighbors the model considers when making the predictions. What happens to the accuracy?\n",
    "- Find the optimal number of k (number of neighbors)\n"
   ]
  },
  {
   "cell_type": "code",
   "execution_count": 29,
   "metadata": {},
   "outputs": [
    {
     "name": "stdout",
     "output_type": "stream",
     "text": [
      "The accuracy is:  0.94\n"
     ]
    }
   ],
   "source": [
    "from sklearn.metrics import accuracy_score\n",
    "knn = KNeighborsClassifier(n_neighbors = 7)\n",
    "knn.fit(X_train, y_train)\n",
    "predictions = knn.predict(X_test)\n",
    "# print(\"Predictions: \", predictions)\n",
    "score = round(accuracy_score(y_test, predictions), 2)\n",
    "print(\"The accuracy is: \", score)\n"
   ]
  },
  {
   "cell_type": "code",
   "execution_count": 30,
   "metadata": {},
   "outputs": [
    {
     "name": "stdout",
     "output_type": "stream",
     "text": [
      "The accuracy is decreasing.\n"
     ]
    }
   ],
   "source": [
    "#Change the number of neighbors the model considers when making the predictions. What happens to the accuracy?\n",
    "print(\"The accuracy is decreasing.\")"
   ]
  },
  {
   "cell_type": "code",
   "execution_count": 31,
   "metadata": {},
   "outputs": [
    {
     "name": "stdout",
     "output_type": "stream",
     "text": [
      "The optimal number is 7, found by changing the numbers.\n"
     ]
    }
   ],
   "source": [
    "#Find the optimal number of k (number of neighbors)\n",
    "print(\"The optimal number is 7, found by changing the numbers.\")"
   ]
  },
  {
   "cell_type": "markdown",
   "metadata": {},
   "source": [
    "### 2C Grid search and cross validation"
   ]
  },
  {
   "cell_type": "markdown",
   "metadata": {},
   "source": [
    "#### 2C.1 parameter grid\n",
    "- Create a parameter grid for the number of nearest neighbors (n_neighbors). It should include the numbers 1 till 10."
   ]
  },
  {
   "cell_type": "code",
   "execution_count": 32,
   "metadata": {},
   "outputs": [
    {
     "name": "stdout",
     "output_type": "stream",
     "text": [
      "n_neighbors: \n",
      "{'n_neighbors': [1, 2, 3, 4, 5, 6, 7, 8, 9, 10]}\n"
     ]
    }
   ],
   "source": [
    "param_grid = {\"n_neighbors\": [1, 2, 3, 4, 5, 6, 7, 8, 9, 10]}\n",
    "print(f\"n_neighbors: \\n{param_grid}\")"
   ]
  },
  {
   "cell_type": "markdown",
   "metadata": {},
   "source": [
    "#### 2C.2 Apply grid search\n",
    "- Import the grid search cv module of sklearn\n",
    "- Create a grid search object that uses your parameter grid and applies 5-fold cross validation.\n",
    "- Fit the grid search object"
   ]
  },
  {
   "cell_type": "code",
   "execution_count": null,
   "metadata": {},
   "outputs": [],
   "source": []
  },
  {
   "cell_type": "code",
   "execution_count": 33,
   "metadata": {},
   "outputs": [
    {
     "data": {
      "text/plain": [
       "GridSearchCV(cv=5, estimator=KNeighborsClassifier(),\n",
       "             param_grid={'n_neighbors': [1, 2, 3, 4, 5, 6, 7, 8, 9, 10]},\n",
       "             return_train_score=True)"
      ]
     },
     "execution_count": 33,
     "metadata": {},
     "output_type": "execute_result"
    }
   ],
   "source": [
    "from sklearn.model_selection import GridSearchCV\n",
    "from sklearn.svm import SVC\n",
    "grid_search = GridSearchCV(KNeighborsClassifier(), param_grid, cv= 5, return_train_score=True)\n",
    "grid_search.fit(X_train, y_train)"
   ]
  },
  {
   "cell_type": "markdown",
   "metadata": {},
   "source": [
    "#### 2C.3 Best parameter setting and best score\n",
    "- Show the best score and the best parameter setting for the number of neighbors.\n",
    "- Is this result the same as in 2B? Why or why not?"
   ]
  },
  {
   "cell_type": "code",
   "execution_count": 34,
   "metadata": {
    "scrolled": true
   },
   "outputs": [
    {
     "name": "stdout",
     "output_type": "stream",
     "text": [
      "The best parameter is:  {'n_neighbors': 7}\n"
     ]
    }
   ],
   "source": [
    "print(\"The best parameter is: \", grid_search.best_params_)"
   ]
  },
  {
   "cell_type": "markdown",
   "metadata": {},
   "source": [
    "#### 2C.4 Dataframe and visualization\n",
    "- Create a dataframe that shows the results of the grid search\n",
    "- Visualize the scores of each number of neighbors (1 till 10)"
   ]
  },
  {
   "cell_type": "code",
   "execution_count": 35,
   "metadata": {},
   "outputs": [
    {
     "data": {
      "text/html": [
       "<div>\n",
       "<style scoped>\n",
       "    .dataframe tbody tr th:only-of-type {\n",
       "        vertical-align: middle;\n",
       "    }\n",
       "\n",
       "    .dataframe tbody tr th {\n",
       "        vertical-align: top;\n",
       "    }\n",
       "\n",
       "    .dataframe thead th {\n",
       "        text-align: right;\n",
       "    }\n",
       "</style>\n",
       "<table border=\"1\" class=\"dataframe\">\n",
       "  <thead>\n",
       "    <tr style=\"text-align: right;\">\n",
       "      <th></th>\n",
       "      <th>mean_fit_time</th>\n",
       "      <th>std_fit_time</th>\n",
       "      <th>mean_score_time</th>\n",
       "      <th>std_score_time</th>\n",
       "      <th>param_n_neighbors</th>\n",
       "      <th>params</th>\n",
       "      <th>split0_test_score</th>\n",
       "      <th>split1_test_score</th>\n",
       "      <th>split2_test_score</th>\n",
       "      <th>split3_test_score</th>\n",
       "      <th>...</th>\n",
       "      <th>mean_test_score</th>\n",
       "      <th>std_test_score</th>\n",
       "      <th>rank_test_score</th>\n",
       "      <th>split0_train_score</th>\n",
       "      <th>split1_train_score</th>\n",
       "      <th>split2_train_score</th>\n",
       "      <th>split3_train_score</th>\n",
       "      <th>split4_train_score</th>\n",
       "      <th>mean_train_score</th>\n",
       "      <th>std_train_score</th>\n",
       "    </tr>\n",
       "  </thead>\n",
       "  <tbody>\n",
       "    <tr>\n",
       "      <th>0</th>\n",
       "      <td>0.0010</td>\n",
       "      <td>9.536743e-08</td>\n",
       "      <td>0.004401</td>\n",
       "      <td>4.899014e-04</td>\n",
       "      <td>1</td>\n",
       "      <td>{'n_neighbors': 1}</td>\n",
       "      <td>0.844765</td>\n",
       "      <td>0.841155</td>\n",
       "      <td>0.811594</td>\n",
       "      <td>0.862319</td>\n",
       "      <td>...</td>\n",
       "      <td>0.843706</td>\n",
       "      <td>0.017944</td>\n",
       "      <td>9</td>\n",
       "      <td>1.000000</td>\n",
       "      <td>1.000000</td>\n",
       "      <td>1.000000</td>\n",
       "      <td>1.000000</td>\n",
       "      <td>1.000000</td>\n",
       "      <td>1.000000</td>\n",
       "      <td>0.000000</td>\n",
       "    </tr>\n",
       "    <tr>\n",
       "      <th>1</th>\n",
       "      <td>0.0010</td>\n",
       "      <td>1.907349e-07</td>\n",
       "      <td>0.004801</td>\n",
       "      <td>4.003286e-04</td>\n",
       "      <td>2</td>\n",
       "      <td>{'n_neighbors': 2}</td>\n",
       "      <td>0.855596</td>\n",
       "      <td>0.819495</td>\n",
       "      <td>0.818841</td>\n",
       "      <td>0.833333</td>\n",
       "      <td>...</td>\n",
       "      <td>0.829946</td>\n",
       "      <td>0.013841</td>\n",
       "      <td>10</td>\n",
       "      <td>0.906787</td>\n",
       "      <td>0.904072</td>\n",
       "      <td>0.882459</td>\n",
       "      <td>0.914105</td>\n",
       "      <td>0.881555</td>\n",
       "      <td>0.897796</td>\n",
       "      <td>0.013306</td>\n",
       "    </tr>\n",
       "    <tr>\n",
       "      <th>2</th>\n",
       "      <td>0.0008</td>\n",
       "      <td>4.001380e-04</td>\n",
       "      <td>0.004601</td>\n",
       "      <td>4.899405e-04</td>\n",
       "      <td>3</td>\n",
       "      <td>{'n_neighbors': 3}</td>\n",
       "      <td>0.924188</td>\n",
       "      <td>0.884477</td>\n",
       "      <td>0.873188</td>\n",
       "      <td>0.887681</td>\n",
       "      <td>...</td>\n",
       "      <td>0.893617</td>\n",
       "      <td>0.017292</td>\n",
       "      <td>8</td>\n",
       "      <td>0.961991</td>\n",
       "      <td>0.952941</td>\n",
       "      <td>0.943942</td>\n",
       "      <td>0.952080</td>\n",
       "      <td>0.946655</td>\n",
       "      <td>0.951522</td>\n",
       "      <td>0.006214</td>\n",
       "    </tr>\n",
       "    <tr>\n",
       "      <th>3</th>\n",
       "      <td>0.0010</td>\n",
       "      <td>3.989506e-07</td>\n",
       "      <td>0.004601</td>\n",
       "      <td>4.899404e-04</td>\n",
       "      <td>4</td>\n",
       "      <td>{'n_neighbors': 4}</td>\n",
       "      <td>0.938628</td>\n",
       "      <td>0.895307</td>\n",
       "      <td>0.894928</td>\n",
       "      <td>0.902174</td>\n",
       "      <td>...</td>\n",
       "      <td>0.906642</td>\n",
       "      <td>0.016302</td>\n",
       "      <td>7</td>\n",
       "      <td>0.940271</td>\n",
       "      <td>0.941176</td>\n",
       "      <td>0.944846</td>\n",
       "      <td>0.941230</td>\n",
       "      <td>0.937613</td>\n",
       "      <td>0.941027</td>\n",
       "      <td>0.002318</td>\n",
       "    </tr>\n",
       "    <tr>\n",
       "      <th>4</th>\n",
       "      <td>0.0010</td>\n",
       "      <td>3.693565e-07</td>\n",
       "      <td>0.004601</td>\n",
       "      <td>4.899793e-04</td>\n",
       "      <td>5</td>\n",
       "      <td>{'n_neighbors': 5}</td>\n",
       "      <td>0.945848</td>\n",
       "      <td>0.927798</td>\n",
       "      <td>0.920290</td>\n",
       "      <td>0.942029</td>\n",
       "      <td>...</td>\n",
       "      <td>0.932700</td>\n",
       "      <td>0.009640</td>\n",
       "      <td>2</td>\n",
       "      <td>0.973756</td>\n",
       "      <td>0.961086</td>\n",
       "      <td>0.965642</td>\n",
       "      <td>0.963834</td>\n",
       "      <td>0.966546</td>\n",
       "      <td>0.966173</td>\n",
       "      <td>0.004225</td>\n",
       "    </tr>\n",
       "    <tr>\n",
       "      <th>5</th>\n",
       "      <td>0.0010</td>\n",
       "      <td>2.611745e-07</td>\n",
       "      <td>0.004601</td>\n",
       "      <td>4.899209e-04</td>\n",
       "      <td>6</td>\n",
       "      <td>{'n_neighbors': 6}</td>\n",
       "      <td>0.956679</td>\n",
       "      <td>0.924188</td>\n",
       "      <td>0.909420</td>\n",
       "      <td>0.945652</td>\n",
       "      <td>...</td>\n",
       "      <td>0.929796</td>\n",
       "      <td>0.018447</td>\n",
       "      <td>3</td>\n",
       "      <td>0.962896</td>\n",
       "      <td>0.952036</td>\n",
       "      <td>0.962025</td>\n",
       "      <td>0.957505</td>\n",
       "      <td>0.965642</td>\n",
       "      <td>0.960021</td>\n",
       "      <td>0.004774</td>\n",
       "    </tr>\n",
       "    <tr>\n",
       "      <th>6</th>\n",
       "      <td>0.0010</td>\n",
       "      <td>1.784161e-07</td>\n",
       "      <td>0.004801</td>\n",
       "      <td>4.000426e-04</td>\n",
       "      <td>7</td>\n",
       "      <td>{'n_neighbors': 7}</td>\n",
       "      <td>0.949458</td>\n",
       "      <td>0.935018</td>\n",
       "      <td>0.923913</td>\n",
       "      <td>0.942029</td>\n",
       "      <td>...</td>\n",
       "      <td>0.934142</td>\n",
       "      <td>0.010900</td>\n",
       "      <td>1</td>\n",
       "      <td>0.970136</td>\n",
       "      <td>0.967421</td>\n",
       "      <td>0.967450</td>\n",
       "      <td>0.968354</td>\n",
       "      <td>0.971971</td>\n",
       "      <td>0.969066</td>\n",
       "      <td>0.001755</td>\n",
       "    </tr>\n",
       "    <tr>\n",
       "      <th>7</th>\n",
       "      <td>0.0008</td>\n",
       "      <td>4.001143e-04</td>\n",
       "      <td>0.004801</td>\n",
       "      <td>3.998757e-04</td>\n",
       "      <td>8</td>\n",
       "      <td>{'n_neighbors': 8}</td>\n",
       "      <td>0.945848</td>\n",
       "      <td>0.902527</td>\n",
       "      <td>0.887681</td>\n",
       "      <td>0.927536</td>\n",
       "      <td>...</td>\n",
       "      <td>0.915327</td>\n",
       "      <td>0.020070</td>\n",
       "      <td>5</td>\n",
       "      <td>0.956561</td>\n",
       "      <td>0.951131</td>\n",
       "      <td>0.944846</td>\n",
       "      <td>0.956600</td>\n",
       "      <td>0.962025</td>\n",
       "      <td>0.954233</td>\n",
       "      <td>0.005822</td>\n",
       "    </tr>\n",
       "    <tr>\n",
       "      <th>8</th>\n",
       "      <td>0.0010</td>\n",
       "      <td>1.168008e-07</td>\n",
       "      <td>0.005001</td>\n",
       "      <td>2.431402e-07</td>\n",
       "      <td>9</td>\n",
       "      <td>{'n_neighbors': 9}</td>\n",
       "      <td>0.924188</td>\n",
       "      <td>0.924188</td>\n",
       "      <td>0.884058</td>\n",
       "      <td>0.934783</td>\n",
       "      <td>...</td>\n",
       "      <td>0.918226</td>\n",
       "      <td>0.017578</td>\n",
       "      <td>4</td>\n",
       "      <td>0.949321</td>\n",
       "      <td>0.950226</td>\n",
       "      <td>0.950271</td>\n",
       "      <td>0.959313</td>\n",
       "      <td>0.958409</td>\n",
       "      <td>0.953508</td>\n",
       "      <td>0.004393</td>\n",
       "    </tr>\n",
       "    <tr>\n",
       "      <th>9</th>\n",
       "      <td>0.0010</td>\n",
       "      <td>2.431402e-07</td>\n",
       "      <td>0.005001</td>\n",
       "      <td>5.436780e-07</td>\n",
       "      <td>10</td>\n",
       "      <td>{'n_neighbors': 10}</td>\n",
       "      <td>0.927798</td>\n",
       "      <td>0.916968</td>\n",
       "      <td>0.902174</td>\n",
       "      <td>0.913043</td>\n",
       "      <td>...</td>\n",
       "      <td>0.911707</td>\n",
       "      <td>0.010510</td>\n",
       "      <td>6</td>\n",
       "      <td>0.936652</td>\n",
       "      <td>0.933937</td>\n",
       "      <td>0.938517</td>\n",
       "      <td>0.940325</td>\n",
       "      <td>0.941230</td>\n",
       "      <td>0.938132</td>\n",
       "      <td>0.002621</td>\n",
       "    </tr>\n",
       "  </tbody>\n",
       "</table>\n",
       "<p>10 rows × 21 columns</p>\n",
       "</div>"
      ],
      "text/plain": [
       "   mean_fit_time  std_fit_time  mean_score_time  std_score_time  \\\n",
       "0         0.0010  9.536743e-08         0.004401    4.899014e-04   \n",
       "1         0.0010  1.907349e-07         0.004801    4.003286e-04   \n",
       "2         0.0008  4.001380e-04         0.004601    4.899405e-04   \n",
       "3         0.0010  3.989506e-07         0.004601    4.899404e-04   \n",
       "4         0.0010  3.693565e-07         0.004601    4.899793e-04   \n",
       "5         0.0010  2.611745e-07         0.004601    4.899209e-04   \n",
       "6         0.0010  1.784161e-07         0.004801    4.000426e-04   \n",
       "7         0.0008  4.001143e-04         0.004801    3.998757e-04   \n",
       "8         0.0010  1.168008e-07         0.005001    2.431402e-07   \n",
       "9         0.0010  2.431402e-07         0.005001    5.436780e-07   \n",
       "\n",
       "  param_n_neighbors               params  split0_test_score  \\\n",
       "0                 1   {'n_neighbors': 1}           0.844765   \n",
       "1                 2   {'n_neighbors': 2}           0.855596   \n",
       "2                 3   {'n_neighbors': 3}           0.924188   \n",
       "3                 4   {'n_neighbors': 4}           0.938628   \n",
       "4                 5   {'n_neighbors': 5}           0.945848   \n",
       "5                 6   {'n_neighbors': 6}           0.956679   \n",
       "6                 7   {'n_neighbors': 7}           0.949458   \n",
       "7                 8   {'n_neighbors': 8}           0.945848   \n",
       "8                 9   {'n_neighbors': 9}           0.924188   \n",
       "9                10  {'n_neighbors': 10}           0.927798   \n",
       "\n",
       "   split1_test_score  split2_test_score  split3_test_score  ...  \\\n",
       "0           0.841155           0.811594           0.862319  ...   \n",
       "1           0.819495           0.818841           0.833333  ...   \n",
       "2           0.884477           0.873188           0.887681  ...   \n",
       "3           0.895307           0.894928           0.902174  ...   \n",
       "4           0.927798           0.920290           0.942029  ...   \n",
       "5           0.924188           0.909420           0.945652  ...   \n",
       "6           0.935018           0.923913           0.942029  ...   \n",
       "7           0.902527           0.887681           0.927536  ...   \n",
       "8           0.924188           0.884058           0.934783  ...   \n",
       "9           0.916968           0.902174           0.913043  ...   \n",
       "\n",
       "   mean_test_score  std_test_score  rank_test_score  split0_train_score  \\\n",
       "0         0.843706        0.017944                9            1.000000   \n",
       "1         0.829946        0.013841               10            0.906787   \n",
       "2         0.893617        0.017292                8            0.961991   \n",
       "3         0.906642        0.016302                7            0.940271   \n",
       "4         0.932700        0.009640                2            0.973756   \n",
       "5         0.929796        0.018447                3            0.962896   \n",
       "6         0.934142        0.010900                1            0.970136   \n",
       "7         0.915327        0.020070                5            0.956561   \n",
       "8         0.918226        0.017578                4            0.949321   \n",
       "9         0.911707        0.010510                6            0.936652   \n",
       "\n",
       "   split1_train_score  split2_train_score  split3_train_score  \\\n",
       "0            1.000000            1.000000            1.000000   \n",
       "1            0.904072            0.882459            0.914105   \n",
       "2            0.952941            0.943942            0.952080   \n",
       "3            0.941176            0.944846            0.941230   \n",
       "4            0.961086            0.965642            0.963834   \n",
       "5            0.952036            0.962025            0.957505   \n",
       "6            0.967421            0.967450            0.968354   \n",
       "7            0.951131            0.944846            0.956600   \n",
       "8            0.950226            0.950271            0.959313   \n",
       "9            0.933937            0.938517            0.940325   \n",
       "\n",
       "   split4_train_score  mean_train_score  std_train_score  \n",
       "0            1.000000          1.000000         0.000000  \n",
       "1            0.881555          0.897796         0.013306  \n",
       "2            0.946655          0.951522         0.006214  \n",
       "3            0.937613          0.941027         0.002318  \n",
       "4            0.966546          0.966173         0.004225  \n",
       "5            0.965642          0.960021         0.004774  \n",
       "6            0.971971          0.969066         0.001755  \n",
       "7            0.962025          0.954233         0.005822  \n",
       "8            0.958409          0.953508         0.004393  \n",
       "9            0.941230          0.938132         0.002621  \n",
       "\n",
       "[10 rows x 21 columns]"
      ]
     },
     "metadata": {},
     "output_type": "display_data"
    }
   ],
   "source": [
    "results = pd.DataFrame(grid_search.cv_results_)\n",
    "display(results)"
   ]
  },
  {
   "cell_type": "code",
   "execution_count": null,
   "metadata": {},
   "outputs": [],
   "source": []
  },
  {
   "cell_type": "markdown",
   "metadata": {},
   "source": [
    "## 3 Classification metrics"
   ]
  },
  {
   "cell_type": "markdown",
   "metadata": {},
   "source": [
    "### 3A Confusion matrix\n",
    "- Do some research to find out what a confusion matrix is. What is it and why is it important for classification?\n",
    "- Import the confusion matrix module from sklearn metrics\n",
    "- Create a confusion matrix that compares your predicted decisions with the actual decisions"
   ]
  },
  {
   "cell_type": "code",
   "execution_count": 36,
   "metadata": {},
   "outputs": [
    {
     "name": "stdout",
     "output_type": "stream",
     "text": [
      "A confusion matrix is a diagram in where the number of predictions is displayed against the real data. It is important because you may want to minimize a specific outcome such as a false positive or false negative.\n"
     ]
    }
   ],
   "source": [
    "# Do some research to find out what a confusion matrix is. What is it and why is it important for classification?\n",
    "print(\"A confusion matrix is a diagram in where the number of predictions is displayed against the real data. \\\n",
    "It is important because you may want to minimize a specific outcome such as a false positive or false negative.\")"
   ]
  },
  {
   "cell_type": "code",
   "execution_count": 37,
   "metadata": {},
   "outputs": [
    {
     "data": {
      "text/plain": [
       "array([[235,   0,   0,   0],\n",
       "       [ 12,  70,   1,   0],\n",
       "       [  1,   0,   9,   1],\n",
       "       [  0,   3,   2,  12]], dtype=int64)"
      ]
     },
     "execution_count": 37,
     "metadata": {},
     "output_type": "execute_result"
    }
   ],
   "source": [
    "from sklearn.metrics import confusion_matrix\n",
    "s = confusion_matrix(y_test, predictions)\n",
    "s"
   ]
  },
  {
   "cell_type": "markdown",
   "metadata": {},
   "source": [
    "### 3B Confusion matrix plot\n",
    "A more convenient way to show a confusion matrix is to use the plot_confusion_matrix of scikit learn.\n",
    "- Import the confusion matrix plot module\n",
    "- Visualize the confusion matrix in two ways:\n",
    "    - Show the absolute numbers\n",
    "    - Show the relative (normalized) numbers\n",
    "- Some predicted decisions are \"higher\" than the actual decisions and some are \"lower\". Explain why that is important in making decisions about cars."
   ]
  },
  {
   "cell_type": "code",
   "execution_count": 38,
   "metadata": {},
   "outputs": [
    {
     "data": {
      "text/plain": [
       "<sklearn.metrics._plot.confusion_matrix.ConfusionMatrixDisplay at 0x227b9aa9ca0>"
      ]
     },
     "execution_count": 38,
     "metadata": {},
     "output_type": "execute_result"
    },
    {
     "data": {
      "image/png": "[encoded data removed]",
      "text/plain": [
       "<Figure size 640x480 with 2 Axes>"
      ]
     },
     "metadata": {},
     "output_type": "display_data"
    }
   ],
   "source": [
    "from sklearn.metrics import ConfusionMatrixDisplay\n",
    "ConfusionMatrixDisplay(s,display_labels=['unacc', 'good', 'vgood', 'acc']).plot()\n",
    "# ConfusionMatrixDisplay(s, X_test, y_test,display_labels=['unacc', 'good', 'vgood', 'acc'])#,\\\n",
    "#                       cmap=plt.cm.Blues, normalize=\"true\")\n",
    "# plt.show()"
   ]
  },
  {
   "cell_type": "markdown",
   "metadata": {},
   "source": [
    "### 3C other metrics\n",
    "- How would you describe this dataset. To what extent is this a balanced data set?\n",
    "- Is accuracy a good metric to use here? Why or why not?\n",
    "- Show a classification report that includes class recall, class precision and f1 scores.\n",
    "- Explain what precision, recall and f1 score are using examples from the confusion matrix.\n",
    "- For some classes there is unsufficient evidence. For which classes is this the case and why?\n",
    "- Which metric is most important in the context of classifying cars and why?"
   ]
  },
  {
   "cell_type": "code",
   "execution_count": 39,
   "metadata": {},
   "outputs": [
    {
     "name": "stdout",
     "output_type": "stream",
     "text": [
      "              precision    recall  f1-score   support\n",
      "\n",
      "       unacc       0.95      1.00      0.97       235\n",
      "        good       0.96      0.84      0.90        83\n",
      "       vgood       0.75      0.82      0.78        11\n",
      "         acc       0.92      0.71      0.80        17\n",
      "\n",
      "    accuracy                           0.94       346\n",
      "   macro avg       0.89      0.84      0.86       346\n",
      "weighted avg       0.94      0.94      0.94       346\n",
      "\n"
     ]
    }
   ],
   "source": [
    "from sklearn.metrics import classification_report\n",
    "print(classification_report(y_test, predictions,\n",
    "                            target_names=['unacc', 'good', 'vgood', 'acc']))"
   ]
  },
  {
   "cell_type": "code",
   "execution_count": 40,
   "metadata": {},
   "outputs": [
    {
     "name": "stdout",
     "output_type": "stream",
     "text": [
      "Precision: of all the predicted positives, what percentage is truly positive.\n",
      "Recall: of the total positives, what percentage is predicted correctly.\n",
      "F1: when you want to minimize both false positives and false negatives.\n"
     ]
    }
   ],
   "source": [
    "print(\"Precision: of all the predicted positives, what percentage is truly positive.\\n\\\n",
    "Recall: of the total positives, what percentage is predicted correctly.\\n\\\n",
    "F1: when you want to minimize both false positives and false negatives.\")"
   ]
  },
  {
   "cell_type": "code",
   "execution_count": null,
   "metadata": {},
   "outputs": [],
   "source": []
  }
 ],
 "metadata": {
  "kernelspec": {
   "display_name": "Python 3 (ipykernel)",
   "language": "python",
   "name": "python3"
  },
  "language_info": {
   "codemirror_mode": {
    "name": "ipython",
    "version": 3
   },
   "file_extension": ".py",
   "mimetype": "text/x-python",
   "name": "python",
   "nbconvert_exporter": "python",
   "pygments_lexer": "ipython3",
   "version": "3.9.13"
  }
 },
 "nbformat": 4,
 "nbformat_minor": 4
}
